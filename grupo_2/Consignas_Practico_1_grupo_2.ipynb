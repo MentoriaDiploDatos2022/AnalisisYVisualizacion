{
  "cells": [
    {
      "cell_type": "markdown",
      "metadata": {
        "id": "PqwpS9LFpLtn"
      },
      "source": [
        "-----\n",
        "## Práctico Análisis y Visualización\n",
        "\n",
        "El siguiente trabajo esta pensado para ser entregado en formato de tipo informe en un notebook Python hecho en Jupyter Lab o Google Colab. Debera apuntar a un público técnico con conocimientos generales del tema. \n",
        "\n",
        "La presentación de los resultados debe ser clara, apoyar las conclusiones extraidas y ser lo mas sintetico posible. No necesariamente todo lo que prueben debe estar reflejado en el informe. Ciertamente valoramos el esfuerzo de explorar alternativas de análisis y visualización, pero parte del trabajo es elegir también las mas adecuadas. \n",
        "\n",
        "----\n",
        "\n",
        "## Consignas\n",
        "\n",
        "### 1. Armado del dataset\n",
        "\n",
        "Inicialmente nuestro conjunto de datos se encuentra distribuido en varios archivos. Es necesario juntar todo en un mismo set de datos para facilitar la manipulacion. \n",
        "\n",
        "- Describir las caracteristicas generales de los datasets presentes en los archivos de entrada: Numero de registros, diferencias entre los mismos. \n",
        "- Definir conveniencia de usar todos los datos juntos en un mismo dataset o separarlos. \n",
        "\n",
        "### 2. Exploración\n",
        "\n",
        "- De que consta nuestro dataset? que tipo de datos tenemos?\n",
        "- Nuestra variable a predecir, esta balanceada dentro del dataset etiquetado?\n",
        "- Que tipo de curacion creen que seria necesaria realizar? Existen datos nulos?\n",
        "- En base a lo que podemos entender conceptualmente sobre nuestras variables, existe alguna que a priori pueda tener una mayor influencia sobre nuestro objetivo a predecir? por qué?\n",
        "- Existe correlacion entre las variables del dataset? Cual metodo de cálculo de correlacion conviene usar para este tipo de variables?\n",
        "\n",
        "### 3. Visualización\n",
        "\n",
        "- Como se distribuyen las variables? Cuales siguen una distribucion normal y cuales no?\n",
        "- Explorar las diferencias entre las distribuciones de las distintas variables: \n",
        "  - según el paciente\n",
        "  - según la etiqueta a predecir\n",
        "  - ambas (usar hue)\n",
        "- Hay outliers presentes en nuestras distribuciones? habria que sacarlos?\n",
        "\n",
        "### **Sobre los datos no etiquetados**\n",
        "\n",
        "Si bien todavia no vamos a predecir una etiqueta, nos interesa entender lo mas posible sobre estos datos para poder entender las predicciones de los modelos.\n",
        "\n",
        "- Visualizar las distribuciones de las distintas metricas. Se comportan parecido a los etiquetados si eliminaramos las etiquetas? y si las consideramos?\n",
        "\n",
        "### 4. Conclusiones\n",
        "\n",
        "Sobre los datos etiquetados: \n",
        "- En base al análisis, se pudo encontrar cual(es) son las métricas que mejor diferencian un estado de otro?\n",
        "\n",
        "Sobre los no etiquetados:\n",
        "- Conviene analizarlos junto con los que si estan etiquetados? \n",
        "\n",
        "### 5. Opcional: Analizar las señales originales y obtener un nuevo cuantificador.\n",
        "\n",
        "- Para las señales de EEG de un paciente , acceder a cada uno de los datos de EEG\n",
        "\n",
        "Para cada archivo: \n",
        "\n",
        "- Preprocesar las señales (aplicar filtro de pasa banda ) pertenecientes a los 16 canales \n",
        "- Analizar la entropía espectral de cada una de las señales y calcular el valor medio sobre todos los canales.\n",
        "- Almacenar los datos en un Data Frame  \n",
        "\n",
        "*la entropía espectral se calcula usando el paquete  [antropy](https://github.com/raphaelvallat/antropy) (se instala con $ pip instal antropy). \n",
        "\n",
        "El comando es antropy.spectral_entropy(señal, sf=400, method='welch', normalize=True))   (señal es la señal de EEG , los otros parametros quedan fijos)"
      ]
    },
    {
      "cell_type": "markdown",
      "metadata": {
        "id": "DxfpShm0xy7K"
      },
      "source": [
        "1) Cargar los datos de los distintos csv en dos dataframes: uno para los etiquetados y otro para los no etiquetados."
      ]
    },
    {
      "cell_type": "code",
      "execution_count": null,
      "metadata": {
        "id": "hCHitqp9-nZH",
        "colab": {
          "base_uri": "https://localhost:8080/"
        },
        "outputId": "fa8e818e-852c-48a8-c1d3-197db3a15652"
      },
      "outputs": [
        {
          "output_type": "stream",
          "name": "stdout",
          "text": [
            "wget: option requires an argument -- 'P'\n",
            "Usage: wget [OPTION]... [URL]...\n",
            "\n",
            "Try `wget --help' for more options.\n"
          ]
        }
      ],
      "source": [
        "!wget -P \n",
        "\n"
      ]
    },
    {
      "cell_type": "code",
      "source": [
        "!mkdir dataset"
      ],
      "metadata": {
        "id": "OID7hck8MtKV",
        "colab": {
          "base_uri": "https://localhost:8080/"
        },
        "outputId": "1203adc7-a8a0-4c1f-fe8b-27244de2e6e3"
      },
      "execution_count": null,
      "outputs": [
        {
          "output_type": "stream",
          "name": "stdout",
          "text": [
            "mkdir: cannot create directory ‘dataset’: File exists\n"
          ]
        }
      ]
    },
    {
      "cell_type": "code",
      "source": [
        "#https://askubuntu.com/questions/1321403/how-to-use-wget-to-download-shared-zip-file-from-google-drive\n",
        "\n",
        "!wget -O data.zip '/content/dataset' 'https://drive.google.com/uc?id=1vNvYfmZWLSI8Z4R1wwbI5HDyPDUpX9Us&export=download'"
      ],
      "metadata": {
        "colab": {
          "base_uri": "https://localhost:8080/"
        },
        "id": "jsWj0xUnMbCo",
        "outputId": "7f74dfc0-d08a-46af-db7f-29dda570a816"
      },
      "execution_count": null,
      "outputs": [
        {
          "output_type": "stream",
          "name": "stdout",
          "text": [
            "/content/dataset: Scheme missing.\n",
            "--2022-05-24 00:47:40--  https://drive.google.com/uc?id=1vNvYfmZWLSI8Z4R1wwbI5HDyPDUpX9Us&export=download\n",
            "Resolving drive.google.com (drive.google.com)... 142.250.148.102, 142.250.148.113, 142.250.148.138, ...\n",
            "Connecting to drive.google.com (drive.google.com)|142.250.148.102|:443... connected.\n",
            "HTTP request sent, awaiting response... 303 See Other\n",
            "Location: https://doc-0s-1c-docs.googleusercontent.com/docs/securesc/ha0ro937gcuc7l7deffksulhg5h7mbp1/2hr0f959pthglespusgrc7pt1sa781ri/1653353250000/17953485633898771739/*/1vNvYfmZWLSI8Z4R1wwbI5HDyPDUpX9Us?e=download [following]\n",
            "Warning: wildcards not supported in HTTP.\n",
            "--2022-05-24 00:47:41--  https://doc-0s-1c-docs.googleusercontent.com/docs/securesc/ha0ro937gcuc7l7deffksulhg5h7mbp1/2hr0f959pthglespusgrc7pt1sa781ri/1653353250000/17953485633898771739/*/1vNvYfmZWLSI8Z4R1wwbI5HDyPDUpX9Us?e=download\n",
            "Resolving doc-0s-1c-docs.googleusercontent.com (doc-0s-1c-docs.googleusercontent.com)... 142.251.120.132, 2607:f8b0:4001:c2e::84\n",
            "Connecting to doc-0s-1c-docs.googleusercontent.com (doc-0s-1c-docs.googleusercontent.com)|142.251.120.132|:443... connected.\n",
            "HTTP request sent, awaiting response... 200 OK\n",
            "Length: 993456 (970K) [application/x-zip-compressed]\n",
            "Saving to: ‘data.zip’\n",
            "\n",
            "data.zip            100%[===================>] 970.17K  --.-KB/s    in 0.008s  \n",
            "\n",
            "2022-05-24 00:47:42 (117 MB/s) - ‘data.zip’ saved [993456/993456]\n",
            "\n",
            "FINISHED --2022-05-24 00:47:42--\n",
            "Total wall clock time: 1.9s\n",
            "Downloaded: 1 files, 970K in 0.008s (117 MB/s)\n"
          ]
        }
      ]
    },
    {
      "cell_type": "code",
      "source": [
        "!unzip data.zip -d /content/dataset\n"
      ],
      "metadata": {
        "colab": {
          "base_uri": "https://localhost:8080/"
        },
        "id": "LcwIpxz_R4Hv",
        "outputId": "f5ab10a0-71b4-4a87-b7fb-dcd4ee3d309a"
      },
      "execution_count": null,
      "outputs": [
        {
          "output_type": "stream",
          "name": "stdout",
          "text": [
            "Archive:  data.zip\n",
            "replace /content/dataset/data_preprocessed/.DS_Store? [y]es, [n]o, [A]ll, [N]one, [r]ename: "
          ]
        }
      ]
    },
    {
      "cell_type": "markdown",
      "metadata": {
        "id": "RBXicHgB7XJf"
      },
      "source": [
        "**RESPUESTAS**"
      ]
    },
    {
      "cell_type": "markdown",
      "metadata": {
        "id": "6sTSAQUN7aLR"
      },
      "source": [
        "1. Armado del dataset\n",
        " "
      ]
    },
    {
      "cell_type": "code",
      "source": [
        "from google.colab import drive\n",
        "import pandas as pd\n",
        "from google.colab import files \n",
        "\n",
        "drive.mount('/content/drive')"
      ],
      "metadata": {
        "id": "dnRtZuNS6PKE",
        "colab": {
          "base_uri": "https://localhost:8080/"
        },
        "outputId": "e239c09f-f5df-4ce4-f472-311878c0eae7"
      },
      "execution_count": null,
      "outputs": [
        {
          "output_type": "stream",
          "name": "stdout",
          "text": [
            "Drive already mounted at /content/drive; to attempt to forcibly remount, call drive.mount(\"/content/drive\", force_remount=True).\n"
          ]
        }
      ]
    },
    {
      "cell_type": "code",
      "source": [
        "SHARED_FOLDER_ALIAS = 'mentoria'\n",
        "DATASETS_PATH = '/content/drive/MyDrive/' + SHARED_FOLDER_ALIAS + '/data_preprocessed/'"
      ],
      "metadata": {
        "id": "HjYhTqRjOpRx"
      },
      "execution_count": null,
      "outputs": []
    },
    {
      "cell_type": "code",
      "source": [
        "!ls {DATASETS_PATH}"
      ],
      "metadata": {
        "colab": {
          "base_uri": "https://localhost:8080/"
        },
        "id": "FYqG3jVSOMbz",
        "outputId": "251412c0-4daf-4387-a7a8-e2ba0e434348"
      },
      "execution_count": null,
      "outputs": [
        {
          "output_type": "stream",
          "name": "stdout",
          "text": [
            "ls: cannot access '/content/drive/MyDrive/mentoria/data_preprocessed/': No such file or directory\n"
          ]
        }
      ]
    },
    {
      "cell_type": "code",
      "source": [
        "path = DATASETS_PATH + 'Data_test_P1.csv'\n",
        "eti_1 = pd.read_csv (path)\n",
        "print(eti_1)"
      ],
      "metadata": {
        "colab": {
          "base_uri": "https://localhost:8080/",
          "height": 360
        },
        "id": "MpA7GjWf70ht",
        "outputId": "3869f8cc-c552-4b5a-8fc2-4e67dcba0a53"
      },
      "execution_count": null,
      "outputs": [
        {
          "output_type": "error",
          "ename": "FileNotFoundError",
          "evalue": "ignored",
          "traceback": [
            "\u001b[0;31m---------------------------------------------------------------------------\u001b[0m",
            "\u001b[0;31mFileNotFoundError\u001b[0m                         Traceback (most recent call last)",
            "\u001b[0;32m<ipython-input-31-069a27bd0019>\u001b[0m in \u001b[0;36m<module>\u001b[0;34m()\u001b[0m\n\u001b[1;32m      1\u001b[0m \u001b[0mpath\u001b[0m \u001b[0;34m=\u001b[0m \u001b[0mDATASETS_PATH\u001b[0m \u001b[0;34m+\u001b[0m \u001b[0;34m'Data_test_P1.csv'\u001b[0m\u001b[0;34m\u001b[0m\u001b[0;34m\u001b[0m\u001b[0m\n\u001b[0;32m----> 2\u001b[0;31m \u001b[0meti_1\u001b[0m \u001b[0;34m=\u001b[0m \u001b[0mpd\u001b[0m\u001b[0;34m.\u001b[0m\u001b[0mread_csv\u001b[0m \u001b[0;34m(\u001b[0m\u001b[0mpath\u001b[0m\u001b[0;34m)\u001b[0m\u001b[0;34m\u001b[0m\u001b[0;34m\u001b[0m\u001b[0m\n\u001b[0m\u001b[1;32m      3\u001b[0m \u001b[0mprint\u001b[0m\u001b[0;34m(\u001b[0m\u001b[0meti_1\u001b[0m\u001b[0;34m)\u001b[0m\u001b[0;34m\u001b[0m\u001b[0;34m\u001b[0m\u001b[0m\n",
            "\u001b[0;32m/usr/local/lib/python3.7/dist-packages/pandas/util/_decorators.py\u001b[0m in \u001b[0;36mwrapper\u001b[0;34m(*args, **kwargs)\u001b[0m\n\u001b[1;32m    309\u001b[0m                     \u001b[0mstacklevel\u001b[0m\u001b[0;34m=\u001b[0m\u001b[0mstacklevel\u001b[0m\u001b[0;34m,\u001b[0m\u001b[0;34m\u001b[0m\u001b[0;34m\u001b[0m\u001b[0m\n\u001b[1;32m    310\u001b[0m                 )\n\u001b[0;32m--> 311\u001b[0;31m             \u001b[0;32mreturn\u001b[0m \u001b[0mfunc\u001b[0m\u001b[0;34m(\u001b[0m\u001b[0;34m*\u001b[0m\u001b[0margs\u001b[0m\u001b[0;34m,\u001b[0m \u001b[0;34m**\u001b[0m\u001b[0mkwargs\u001b[0m\u001b[0;34m)\u001b[0m\u001b[0;34m\u001b[0m\u001b[0;34m\u001b[0m\u001b[0m\n\u001b[0m\u001b[1;32m    312\u001b[0m \u001b[0;34m\u001b[0m\u001b[0m\n\u001b[1;32m    313\u001b[0m         \u001b[0;32mreturn\u001b[0m \u001b[0mwrapper\u001b[0m\u001b[0;34m\u001b[0m\u001b[0;34m\u001b[0m\u001b[0m\n",
            "\u001b[0;32m/usr/local/lib/python3.7/dist-packages/pandas/io/parsers/readers.py\u001b[0m in \u001b[0;36mread_csv\u001b[0;34m(filepath_or_buffer, sep, delimiter, header, names, index_col, usecols, squeeze, prefix, mangle_dupe_cols, dtype, engine, converters, true_values, false_values, skipinitialspace, skiprows, skipfooter, nrows, na_values, keep_default_na, na_filter, verbose, skip_blank_lines, parse_dates, infer_datetime_format, keep_date_col, date_parser, dayfirst, cache_dates, iterator, chunksize, compression, thousands, decimal, lineterminator, quotechar, quoting, doublequote, escapechar, comment, encoding, encoding_errors, dialect, error_bad_lines, warn_bad_lines, on_bad_lines, delim_whitespace, low_memory, memory_map, float_precision, storage_options)\u001b[0m\n\u001b[1;32m    584\u001b[0m     \u001b[0mkwds\u001b[0m\u001b[0;34m.\u001b[0m\u001b[0mupdate\u001b[0m\u001b[0;34m(\u001b[0m\u001b[0mkwds_defaults\u001b[0m\u001b[0;34m)\u001b[0m\u001b[0;34m\u001b[0m\u001b[0;34m\u001b[0m\u001b[0m\n\u001b[1;32m    585\u001b[0m \u001b[0;34m\u001b[0m\u001b[0m\n\u001b[0;32m--> 586\u001b[0;31m     \u001b[0;32mreturn\u001b[0m \u001b[0m_read\u001b[0m\u001b[0;34m(\u001b[0m\u001b[0mfilepath_or_buffer\u001b[0m\u001b[0;34m,\u001b[0m \u001b[0mkwds\u001b[0m\u001b[0;34m)\u001b[0m\u001b[0;34m\u001b[0m\u001b[0;34m\u001b[0m\u001b[0m\n\u001b[0m\u001b[1;32m    587\u001b[0m \u001b[0;34m\u001b[0m\u001b[0m\n\u001b[1;32m    588\u001b[0m \u001b[0;34m\u001b[0m\u001b[0m\n",
            "\u001b[0;32m/usr/local/lib/python3.7/dist-packages/pandas/io/parsers/readers.py\u001b[0m in \u001b[0;36m_read\u001b[0;34m(filepath_or_buffer, kwds)\u001b[0m\n\u001b[1;32m    480\u001b[0m \u001b[0;34m\u001b[0m\u001b[0m\n\u001b[1;32m    481\u001b[0m     \u001b[0;31m# Create the parser.\u001b[0m\u001b[0;34m\u001b[0m\u001b[0;34m\u001b[0m\u001b[0;34m\u001b[0m\u001b[0m\n\u001b[0;32m--> 482\u001b[0;31m     \u001b[0mparser\u001b[0m \u001b[0;34m=\u001b[0m \u001b[0mTextFileReader\u001b[0m\u001b[0;34m(\u001b[0m\u001b[0mfilepath_or_buffer\u001b[0m\u001b[0;34m,\u001b[0m \u001b[0;34m**\u001b[0m\u001b[0mkwds\u001b[0m\u001b[0;34m)\u001b[0m\u001b[0;34m\u001b[0m\u001b[0;34m\u001b[0m\u001b[0m\n\u001b[0m\u001b[1;32m    483\u001b[0m \u001b[0;34m\u001b[0m\u001b[0m\n\u001b[1;32m    484\u001b[0m     \u001b[0;32mif\u001b[0m \u001b[0mchunksize\u001b[0m \u001b[0;32mor\u001b[0m \u001b[0miterator\u001b[0m\u001b[0;34m:\u001b[0m\u001b[0;34m\u001b[0m\u001b[0;34m\u001b[0m\u001b[0m\n",
            "\u001b[0;32m/usr/local/lib/python3.7/dist-packages/pandas/io/parsers/readers.py\u001b[0m in \u001b[0;36m__init__\u001b[0;34m(self, f, engine, **kwds)\u001b[0m\n\u001b[1;32m    809\u001b[0m             \u001b[0mself\u001b[0m\u001b[0;34m.\u001b[0m\u001b[0moptions\u001b[0m\u001b[0;34m[\u001b[0m\u001b[0;34m\"has_index_names\"\u001b[0m\u001b[0;34m]\u001b[0m \u001b[0;34m=\u001b[0m \u001b[0mkwds\u001b[0m\u001b[0;34m[\u001b[0m\u001b[0;34m\"has_index_names\"\u001b[0m\u001b[0;34m]\u001b[0m\u001b[0;34m\u001b[0m\u001b[0;34m\u001b[0m\u001b[0m\n\u001b[1;32m    810\u001b[0m \u001b[0;34m\u001b[0m\u001b[0m\n\u001b[0;32m--> 811\u001b[0;31m         \u001b[0mself\u001b[0m\u001b[0;34m.\u001b[0m\u001b[0m_engine\u001b[0m \u001b[0;34m=\u001b[0m \u001b[0mself\u001b[0m\u001b[0;34m.\u001b[0m\u001b[0m_make_engine\u001b[0m\u001b[0;34m(\u001b[0m\u001b[0mself\u001b[0m\u001b[0;34m.\u001b[0m\u001b[0mengine\u001b[0m\u001b[0;34m)\u001b[0m\u001b[0;34m\u001b[0m\u001b[0;34m\u001b[0m\u001b[0m\n\u001b[0m\u001b[1;32m    812\u001b[0m \u001b[0;34m\u001b[0m\u001b[0m\n\u001b[1;32m    813\u001b[0m     \u001b[0;32mdef\u001b[0m \u001b[0mclose\u001b[0m\u001b[0;34m(\u001b[0m\u001b[0mself\u001b[0m\u001b[0;34m)\u001b[0m\u001b[0;34m:\u001b[0m\u001b[0;34m\u001b[0m\u001b[0;34m\u001b[0m\u001b[0m\n",
            "\u001b[0;32m/usr/local/lib/python3.7/dist-packages/pandas/io/parsers/readers.py\u001b[0m in \u001b[0;36m_make_engine\u001b[0;34m(self, engine)\u001b[0m\n\u001b[1;32m   1038\u001b[0m             )\n\u001b[1;32m   1039\u001b[0m         \u001b[0;31m# error: Too many arguments for \"ParserBase\"\u001b[0m\u001b[0;34m\u001b[0m\u001b[0;34m\u001b[0m\u001b[0;34m\u001b[0m\u001b[0m\n\u001b[0;32m-> 1040\u001b[0;31m         \u001b[0;32mreturn\u001b[0m \u001b[0mmapping\u001b[0m\u001b[0;34m[\u001b[0m\u001b[0mengine\u001b[0m\u001b[0;34m]\u001b[0m\u001b[0;34m(\u001b[0m\u001b[0mself\u001b[0m\u001b[0;34m.\u001b[0m\u001b[0mf\u001b[0m\u001b[0;34m,\u001b[0m \u001b[0;34m**\u001b[0m\u001b[0mself\u001b[0m\u001b[0;34m.\u001b[0m\u001b[0moptions\u001b[0m\u001b[0;34m)\u001b[0m  \u001b[0;31m# type: ignore[call-arg]\u001b[0m\u001b[0;34m\u001b[0m\u001b[0;34m\u001b[0m\u001b[0m\n\u001b[0m\u001b[1;32m   1041\u001b[0m \u001b[0;34m\u001b[0m\u001b[0m\n\u001b[1;32m   1042\u001b[0m     \u001b[0;32mdef\u001b[0m \u001b[0m_failover_to_python\u001b[0m\u001b[0;34m(\u001b[0m\u001b[0mself\u001b[0m\u001b[0;34m)\u001b[0m\u001b[0;34m:\u001b[0m\u001b[0;34m\u001b[0m\u001b[0;34m\u001b[0m\u001b[0m\n",
            "\u001b[0;32m/usr/local/lib/python3.7/dist-packages/pandas/io/parsers/c_parser_wrapper.py\u001b[0m in \u001b[0;36m__init__\u001b[0;34m(self, src, **kwds)\u001b[0m\n\u001b[1;32m     49\u001b[0m \u001b[0;34m\u001b[0m\u001b[0m\n\u001b[1;32m     50\u001b[0m         \u001b[0;31m# open handles\u001b[0m\u001b[0;34m\u001b[0m\u001b[0;34m\u001b[0m\u001b[0;34m\u001b[0m\u001b[0m\n\u001b[0;32m---> 51\u001b[0;31m         \u001b[0mself\u001b[0m\u001b[0;34m.\u001b[0m\u001b[0m_open_handles\u001b[0m\u001b[0;34m(\u001b[0m\u001b[0msrc\u001b[0m\u001b[0;34m,\u001b[0m \u001b[0mkwds\u001b[0m\u001b[0;34m)\u001b[0m\u001b[0;34m\u001b[0m\u001b[0;34m\u001b[0m\u001b[0m\n\u001b[0m\u001b[1;32m     52\u001b[0m         \u001b[0;32massert\u001b[0m \u001b[0mself\u001b[0m\u001b[0;34m.\u001b[0m\u001b[0mhandles\u001b[0m \u001b[0;32mis\u001b[0m \u001b[0;32mnot\u001b[0m \u001b[0;32mNone\u001b[0m\u001b[0;34m\u001b[0m\u001b[0;34m\u001b[0m\u001b[0m\n\u001b[1;32m     53\u001b[0m \u001b[0;34m\u001b[0m\u001b[0m\n",
            "\u001b[0;32m/usr/local/lib/python3.7/dist-packages/pandas/io/parsers/base_parser.py\u001b[0m in \u001b[0;36m_open_handles\u001b[0;34m(self, src, kwds)\u001b[0m\n\u001b[1;32m    227\u001b[0m             \u001b[0mmemory_map\u001b[0m\u001b[0;34m=\u001b[0m\u001b[0mkwds\u001b[0m\u001b[0;34m.\u001b[0m\u001b[0mget\u001b[0m\u001b[0;34m(\u001b[0m\u001b[0;34m\"memory_map\"\u001b[0m\u001b[0;34m,\u001b[0m \u001b[0;32mFalse\u001b[0m\u001b[0;34m)\u001b[0m\u001b[0;34m,\u001b[0m\u001b[0;34m\u001b[0m\u001b[0;34m\u001b[0m\u001b[0m\n\u001b[1;32m    228\u001b[0m             \u001b[0mstorage_options\u001b[0m\u001b[0;34m=\u001b[0m\u001b[0mkwds\u001b[0m\u001b[0;34m.\u001b[0m\u001b[0mget\u001b[0m\u001b[0;34m(\u001b[0m\u001b[0;34m\"storage_options\"\u001b[0m\u001b[0;34m,\u001b[0m \u001b[0;32mNone\u001b[0m\u001b[0;34m)\u001b[0m\u001b[0;34m,\u001b[0m\u001b[0;34m\u001b[0m\u001b[0;34m\u001b[0m\u001b[0m\n\u001b[0;32m--> 229\u001b[0;31m             \u001b[0merrors\u001b[0m\u001b[0;34m=\u001b[0m\u001b[0mkwds\u001b[0m\u001b[0;34m.\u001b[0m\u001b[0mget\u001b[0m\u001b[0;34m(\u001b[0m\u001b[0;34m\"encoding_errors\"\u001b[0m\u001b[0;34m,\u001b[0m \u001b[0;34m\"strict\"\u001b[0m\u001b[0;34m)\u001b[0m\u001b[0;34m,\u001b[0m\u001b[0;34m\u001b[0m\u001b[0;34m\u001b[0m\u001b[0m\n\u001b[0m\u001b[1;32m    230\u001b[0m         )\n\u001b[1;32m    231\u001b[0m \u001b[0;34m\u001b[0m\u001b[0m\n",
            "\u001b[0;32m/usr/local/lib/python3.7/dist-packages/pandas/io/common.py\u001b[0m in \u001b[0;36mget_handle\u001b[0;34m(path_or_buf, mode, encoding, compression, memory_map, is_text, errors, storage_options)\u001b[0m\n\u001b[1;32m    705\u001b[0m                 \u001b[0mencoding\u001b[0m\u001b[0;34m=\u001b[0m\u001b[0mioargs\u001b[0m\u001b[0;34m.\u001b[0m\u001b[0mencoding\u001b[0m\u001b[0;34m,\u001b[0m\u001b[0;34m\u001b[0m\u001b[0;34m\u001b[0m\u001b[0m\n\u001b[1;32m    706\u001b[0m                 \u001b[0merrors\u001b[0m\u001b[0;34m=\u001b[0m\u001b[0merrors\u001b[0m\u001b[0;34m,\u001b[0m\u001b[0;34m\u001b[0m\u001b[0;34m\u001b[0m\u001b[0m\n\u001b[0;32m--> 707\u001b[0;31m                 \u001b[0mnewline\u001b[0m\u001b[0;34m=\u001b[0m\u001b[0;34m\"\"\u001b[0m\u001b[0;34m,\u001b[0m\u001b[0;34m\u001b[0m\u001b[0;34m\u001b[0m\u001b[0m\n\u001b[0m\u001b[1;32m    708\u001b[0m             )\n\u001b[1;32m    709\u001b[0m         \u001b[0;32melse\u001b[0m\u001b[0;34m:\u001b[0m\u001b[0;34m\u001b[0m\u001b[0;34m\u001b[0m\u001b[0m\n",
            "\u001b[0;31mFileNotFoundError\u001b[0m: [Errno 2] No such file or directory: '/content/drive/MyDrive/mentoria/data_preprocessed/Data_test_P1.csv'"
          ]
        }
      ]
    },
    {
      "cell_type": "code",
      "execution_count": null,
      "metadata": {
        "id": "WqrDHXjm8C37"
      },
      "outputs": [],
      "source": [
        "path = DATASETS_PATH + 'Data_test_P2.csv'\n",
        "eti_2 = pd.read_csv (path)\n",
        "print(eti_2)"
      ]
    },
    {
      "cell_type": "code",
      "execution_count": null,
      "metadata": {
        "id": "80hV9hGZ8M_5",
        "colab": {
          "base_uri": "https://localhost:8080/"
        },
        "outputId": "e5c25705-6a4f-45f3-e0f1-f81a1c5f024c"
      },
      "outputs": [
        {
          "output_type": "stream",
          "name": "stdout",
          "text": [
            "      Patient  State        PE        SC       GNE        SE       LZC  \\\n",
            "0         3.0    0.0  0.479441  0.278778  0.469924  0.443475  0.193504   \n",
            "1         3.0    0.0  0.465473  0.277148  0.447006  0.453844  0.191880   \n",
            "2         3.0    0.0  0.492096  0.280312  0.490854  0.455807  0.215496   \n",
            "3         3.0    0.0  0.486271  0.278803  0.480243  0.420207  0.186225   \n",
            "4         3.0    0.0  0.493036  0.279539  0.491375  0.425493  0.192620   \n",
            "...       ...    ...       ...       ...       ...       ...       ...   \n",
            "2389      3.0    0.0  0.448407  0.274937  0.418891  0.460836  0.176777   \n",
            "2390      3.0    0.0  0.519529  0.283694  0.537028  0.522160  0.294764   \n",
            "2391      3.0    1.0  0.532872  0.284772  0.558522  0.501966  0.298883   \n",
            "2392      3.0    0.0  0.506230  0.281294  0.513469  0.417632  0.203651   \n",
            "2393      3.0    1.0  0.534341  0.285007  0.561251  0.549156  0.325218   \n",
            "\n",
            "           STE          Mean        Std      Skew  \n",
            "0     0.702037 -3.287561e-06  63.641488 -0.114232  \n",
            "1     0.690956  5.709550e-06  60.281793 -0.058164  \n",
            "2     0.712393  1.645871e-05  60.411600 -0.057584  \n",
            "3     0.707219  2.473696e-06  54.363639 -0.018547  \n",
            "4     0.712782 -9.303062e-07  53.188962 -0.022277  \n",
            "...        ...           ...        ...       ...  \n",
            "2389  0.677723 -1.282332e-05  42.577215 -0.120935  \n",
            "2390  0.736046  8.581803e-06  27.410843 -0.009101  \n",
            "2391  0.747369 -2.371154e-06  29.862033  0.157132  \n",
            "2392  0.724019 -2.262278e-06  38.568322  0.005107  \n",
            "2393  0.748813 -2.603982e-06  22.892093 -0.015104  \n",
            "\n",
            "[2394 rows x 11 columns]\n"
          ]
        }
      ],
      "source": [
        "path = DATASETS_PATH + '/Data_test_P3.csv'\n",
        "eti_3 = pd.read_csv (path)\n",
        "print(eti_3)"
      ]
    },
    {
      "cell_type": "code",
      "execution_count": null,
      "metadata": {
        "id": "fwjtg6gU8m7t",
        "colab": {
          "base_uri": "https://localhost:8080/"
        },
        "outputId": "2de50b63-c487-479d-d937-a51990058ea1"
      },
      "outputs": [
        {
          "output_type": "stream",
          "name": "stdout",
          "text": [
            "      Patient        PE        SC       GNE        SE       LZC       STE  \\\n",
            "0         1.0  0.569169  0.285503  0.615967  0.428966  0.269077  0.777645   \n",
            "1         1.0  0.540103  0.283395  0.568056  0.411565  0.190297  0.751926   \n",
            "2         1.0  0.489490  0.280860  0.488495  0.465578  0.207542  0.710696   \n",
            "3         1.0  0.541447  0.283588  0.570310  0.412085  0.204437  0.753217   \n",
            "4         1.0  0.538152  0.283284  0.565175  0.433228  0.221188  0.750362   \n",
            "...       ...       ...       ...       ...       ...       ...       ...   \n",
            "1578      1.0  0.542298  0.285128  0.573605  0.488630  0.277161  0.755518   \n",
            "1579      1.0  0.577379  0.284919  0.628139  0.436884  0.272968  0.783797   \n",
            "1580      1.0  0.226923  0.195050  0.055624  0.433121  0.009849  0.473834   \n",
            "1581      1.0  0.584754  0.285481  0.640814  0.478139  0.304236  0.790763   \n",
            "1582      1.0  0.574968  0.286049  0.625937  0.531554  0.307196  0.782959   \n",
            "\n",
            "              Mean        Std      Skew  \n",
            "0    -1.057214e-06  25.648324 -0.026364  \n",
            "1    -4.563585e-06  54.238732 -0.091269  \n",
            "2     3.029157e-06  23.845106 -0.035229  \n",
            "3    -1.653840e-06  52.400790 -0.084385  \n",
            "4     2.011270e-07  44.700336 -0.058764  \n",
            "...            ...        ...       ...  \n",
            "1578 -6.380187e-06  20.509189 -0.008385  \n",
            "1579 -1.281961e-05  34.162332 -0.039207  \n",
            "1580 -8.332419e-09   5.592382 -0.204169  \n",
            "1581  2.273862e-06  22.671524  0.029680  \n",
            "1582 -1.226151e-05  15.241925 -0.125999  \n",
            "\n",
            "[1583 rows x 10 columns]\n"
          ]
        }
      ],
      "source": [
        "path = DATASETS_PATH + 'Data_noEtiquetado_P1.csv'\n",
        "no_eti_1 = pd.read_csv (path)\n",
        "print(no_eti_1)"
      ]
    },
    {
      "cell_type": "code",
      "execution_count": null,
      "metadata": {
        "id": "Bt4zew0G8vkA",
        "colab": {
          "base_uri": "https://localhost:8080/"
        },
        "outputId": "4c3c0231-205d-4ef6-a958-5e74435f5864"
      },
      "outputs": [
        {
          "output_type": "stream",
          "name": "stdout",
          "text": [
            "      Patient        PE        SC       GNE        SE       LZC       STE  \\\n",
            "0         2.0  0.543140  0.285192  0.575400  0.567177  0.331557  0.756344   \n",
            "1         2.0  0.563359  0.285882  0.607569  0.570171  0.350779  0.773074   \n",
            "2         2.0  0.567607  0.285948  0.614490  0.570695  0.355764  0.776774   \n",
            "3         2.0  0.536664  0.284326  0.563742  0.484500  0.255360  0.749858   \n",
            "4         2.0  0.559977  0.286096  0.602810  0.575267  0.367414  0.770956   \n",
            "...       ...       ...       ...       ...       ...       ...       ...   \n",
            "2250      2.0  0.533825  0.285128  0.560528  0.571857  0.319525  0.748658   \n",
            "2251      2.0  0.545316  0.284808  0.578572  0.553390  0.321308  0.757611   \n",
            "2252      2.0  0.563391  0.285437  0.607543  0.572141  0.355057  0.772917   \n",
            "2253      2.0  0.558770  0.286094  0.600623  0.570037  0.357030  0.769709   \n",
            "2254      2.0  0.556619  0.285598  0.596886  0.563835  0.343863  0.767469   \n",
            "\n",
            "              Mean        Std      Skew  \n",
            "0     1.431100e-06  36.323471 -0.230320  \n",
            "1     5.149700e-05  38.093316 -0.278060  \n",
            "2     1.966607e-05  33.579410 -0.289369  \n",
            "3     1.116102e-05  53.075575 -0.108547  \n",
            "4     7.716042e-06  33.115878 -0.249743  \n",
            "...            ...        ...       ...  \n",
            "2250  3.859167e-05  33.373745 -0.253732  \n",
            "2251  1.759816e-06  42.561809 -0.195841  \n",
            "2252 -3.832878e-07  32.379813 -0.191957  \n",
            "2253  1.590678e-05  36.226386 -0.310810  \n",
            "2254 -2.908957e-05  36.863884 -0.189812  \n",
            "\n",
            "[2255 rows x 10 columns]\n"
          ]
        }
      ],
      "source": [
        "path = DATASETS_PATH + 'Data_noEtiquetado_P2.csv'\n",
        "no_eti_2 = pd.read_csv (path)\n",
        "print(no_eti_2)"
      ]
    },
    {
      "cell_type": "code",
      "execution_count": null,
      "metadata": {
        "id": "D8MYMT2l81xU",
        "colab": {
          "base_uri": "https://localhost:8080/"
        },
        "outputId": "0f62e228-f61c-4351-83c7-73ed9cfb91af"
      },
      "outputs": [
        {
          "output_type": "stream",
          "name": "stdout",
          "text": [
            "      Patient        PE        SC       GNE        SE       LZC       STE  \\\n",
            "0         3.0  0.514282  0.282691  0.527403  0.448487  0.240336  0.731327   \n",
            "1         3.0  0.506499  0.281004  0.513663  0.436929  0.217204  0.724142   \n",
            "2         3.0  0.265320  0.219342  0.094050  0.478747  0.028796  0.545101   \n",
            "3         3.0  0.538652  0.285217  0.568074  0.540223  0.318799  0.752409   \n",
            "4         3.0  0.486665  0.279066  0.481342  0.413653  0.202887  0.708214   \n",
            "...       ...       ...       ...       ...       ...       ...       ...   \n",
            "2276      3.0  0.516479  0.282887  0.531147  0.464275  0.250580  0.732868   \n",
            "2277      3.0  0.487934  0.279556  0.483639  0.444114  0.207290  0.708959   \n",
            "2278      3.0  0.529587  0.283785  0.552341  0.490122  0.269728  0.744144   \n",
            "2279      3.0  0.493372  0.280451  0.493013  0.443925  0.209394  0.713554   \n",
            "2280      3.0  0.483616  0.278193  0.475671  0.416879  0.187882  0.705065   \n",
            "\n",
            "              Mean        Std      Skew  \n",
            "0    -2.796789e-07  42.024412 -0.056650  \n",
            "1     9.165350e-06  44.417071 -0.041952  \n",
            "2    -3.768395e-07   8.994060  0.003584  \n",
            "3    -1.264922e-05  23.101533 -0.040220  \n",
            "4    -7.198240e-06  69.474947  0.018211  \n",
            "...            ...        ...       ...  \n",
            "2276  1.182837e-05  35.717262  0.028871  \n",
            "2277  5.198219e-05  63.084220 -0.028295  \n",
            "2278 -8.128566e-06  30.744780  0.004287  \n",
            "2279  3.173127e-05  61.687320  0.019371  \n",
            "2280 -5.368015e-05  69.037631  0.042493  \n",
            "\n",
            "[2281 rows x 10 columns]\n"
          ]
        }
      ],
      "source": [
        "path = DATASETS_PATH + 'Data_noEtiquetado_P3.csv'\n",
        "no_eti_3 = pd.read_csv (path)\n",
        "print(no_eti_3)"
      ]
    },
    {
      "cell_type": "code",
      "execution_count": null,
      "metadata": {
        "id": "mZRDXI2F-VUj",
        "colab": {
          "base_uri": "https://localhost:8080/"
        },
        "outputId": "e6f4ec84-4dca-4c65-e58e-3ef633d48ab0"
      },
      "outputs": [
        {
          "output_type": "execute_result",
          "data": {
            "text/plain": [
              "Patient    float64\n",
              "State      float64\n",
              "PE         float64\n",
              "SC         float64\n",
              "GNE        float64\n",
              "SE         float64\n",
              "LZC        float64\n",
              "STE        float64\n",
              "Mean       float64\n",
              "Std        float64\n",
              "Skew       float64\n",
              "dtype: object"
            ]
          },
          "metadata": {},
          "execution_count": 16
        }
      ],
      "source": [
        "eti_1.dtypes"
      ]
    },
    {
      "cell_type": "code",
      "execution_count": null,
      "metadata": {
        "id": "jbn3UJn9C55N",
        "colab": {
          "base_uri": "https://localhost:8080/",
          "height": 424
        },
        "outputId": "e3d383c3-dc18-4f87-a3d6-3601120d3ceb"
      },
      "outputs": [
        {
          "output_type": "display_data",
          "data": {
            "text/plain": [
              "      Patient  State        PE        SC       GNE        SE       LZC  \\\n",
              "0         1.0    1.0  0.598255  0.285388  0.662095  0.520937  0.325380   \n",
              "1         1.0    0.0  0.541613  0.283209  0.570060  0.413078  0.195333   \n",
              "2         1.0    0.0  0.543293  0.283316  0.572859  0.418008  0.199974   \n",
              "3         1.0    0.0  0.535949  0.282724  0.560678  0.391206  0.166309   \n",
              "4         1.0    0.0  0.436980  0.272283  0.398864  0.412815  0.116037   \n",
              "...       ...    ...       ...       ...       ...       ...       ...   \n",
              "2389      3.0    0.0  0.448407  0.274937  0.418891  0.460836  0.176777   \n",
              "2390      3.0    0.0  0.519529  0.283694  0.537028  0.522160  0.294764   \n",
              "2391      3.0    1.0  0.532872  0.284772  0.558522  0.501966  0.298883   \n",
              "2392      3.0    0.0  0.506230  0.281294  0.513469  0.417632  0.203651   \n",
              "2393      3.0    1.0  0.534341  0.285007  0.561251  0.549156  0.325218   \n",
              "\n",
              "           STE          Mean        Std      Skew  \n",
              "0     0.802138  4.426225e-06  15.557899 -0.000629  \n",
              "1     0.752879  2.075434e-05  48.467869 -0.031036  \n",
              "2     0.754335  5.322688e-06  46.771531 -0.077559  \n",
              "3     0.747854 -1.353617e-05  48.590217 -0.024175  \n",
              "4     0.668147 -5.555946e-07  41.749673 -0.087401  \n",
              "...        ...           ...        ...       ...  \n",
              "2389  0.677723 -1.282332e-05  42.577215 -0.120935  \n",
              "2390  0.736046  8.581803e-06  27.410843 -0.009101  \n",
              "2391  0.747369 -2.371154e-06  29.862033  0.157132  \n",
              "2392  0.724019 -2.262278e-06  38.568322  0.005107  \n",
              "2393  0.748813 -2.603982e-06  22.892093 -0.015104  \n",
              "\n",
              "[6042 rows x 11 columns]"
            ],
            "text/html": [
              "\n",
              "  <div id=\"df-66a24d61-1de8-47a1-9f75-a8bbc3162906\">\n",
              "    <div class=\"colab-df-container\">\n",
              "      <div>\n",
              "<style scoped>\n",
              "    .dataframe tbody tr th:only-of-type {\n",
              "        vertical-align: middle;\n",
              "    }\n",
              "\n",
              "    .dataframe tbody tr th {\n",
              "        vertical-align: top;\n",
              "    }\n",
              "\n",
              "    .dataframe thead th {\n",
              "        text-align: right;\n",
              "    }\n",
              "</style>\n",
              "<table border=\"1\" class=\"dataframe\">\n",
              "  <thead>\n",
              "    <tr style=\"text-align: right;\">\n",
              "      <th></th>\n",
              "      <th>Patient</th>\n",
              "      <th>State</th>\n",
              "      <th>PE</th>\n",
              "      <th>SC</th>\n",
              "      <th>GNE</th>\n",
              "      <th>SE</th>\n",
              "      <th>LZC</th>\n",
              "      <th>STE</th>\n",
              "      <th>Mean</th>\n",
              "      <th>Std</th>\n",
              "      <th>Skew</th>\n",
              "    </tr>\n",
              "  </thead>\n",
              "  <tbody>\n",
              "    <tr>\n",
              "      <th>0</th>\n",
              "      <td>1.0</td>\n",
              "      <td>1.0</td>\n",
              "      <td>0.598255</td>\n",
              "      <td>0.285388</td>\n",
              "      <td>0.662095</td>\n",
              "      <td>0.520937</td>\n",
              "      <td>0.325380</td>\n",
              "      <td>0.802138</td>\n",
              "      <td>4.426225e-06</td>\n",
              "      <td>15.557899</td>\n",
              "      <td>-0.000629</td>\n",
              "    </tr>\n",
              "    <tr>\n",
              "      <th>1</th>\n",
              "      <td>1.0</td>\n",
              "      <td>0.0</td>\n",
              "      <td>0.541613</td>\n",
              "      <td>0.283209</td>\n",
              "      <td>0.570060</td>\n",
              "      <td>0.413078</td>\n",
              "      <td>0.195333</td>\n",
              "      <td>0.752879</td>\n",
              "      <td>2.075434e-05</td>\n",
              "      <td>48.467869</td>\n",
              "      <td>-0.031036</td>\n",
              "    </tr>\n",
              "    <tr>\n",
              "      <th>2</th>\n",
              "      <td>1.0</td>\n",
              "      <td>0.0</td>\n",
              "      <td>0.543293</td>\n",
              "      <td>0.283316</td>\n",
              "      <td>0.572859</td>\n",
              "      <td>0.418008</td>\n",
              "      <td>0.199974</td>\n",
              "      <td>0.754335</td>\n",
              "      <td>5.322688e-06</td>\n",
              "      <td>46.771531</td>\n",
              "      <td>-0.077559</td>\n",
              "    </tr>\n",
              "    <tr>\n",
              "      <th>3</th>\n",
              "      <td>1.0</td>\n",
              "      <td>0.0</td>\n",
              "      <td>0.535949</td>\n",
              "      <td>0.282724</td>\n",
              "      <td>0.560678</td>\n",
              "      <td>0.391206</td>\n",
              "      <td>0.166309</td>\n",
              "      <td>0.747854</td>\n",
              "      <td>-1.353617e-05</td>\n",
              "      <td>48.590217</td>\n",
              "      <td>-0.024175</td>\n",
              "    </tr>\n",
              "    <tr>\n",
              "      <th>4</th>\n",
              "      <td>1.0</td>\n",
              "      <td>0.0</td>\n",
              "      <td>0.436980</td>\n",
              "      <td>0.272283</td>\n",
              "      <td>0.398864</td>\n",
              "      <td>0.412815</td>\n",
              "      <td>0.116037</td>\n",
              "      <td>0.668147</td>\n",
              "      <td>-5.555946e-07</td>\n",
              "      <td>41.749673</td>\n",
              "      <td>-0.087401</td>\n",
              "    </tr>\n",
              "    <tr>\n",
              "      <th>...</th>\n",
              "      <td>...</td>\n",
              "      <td>...</td>\n",
              "      <td>...</td>\n",
              "      <td>...</td>\n",
              "      <td>...</td>\n",
              "      <td>...</td>\n",
              "      <td>...</td>\n",
              "      <td>...</td>\n",
              "      <td>...</td>\n",
              "      <td>...</td>\n",
              "      <td>...</td>\n",
              "    </tr>\n",
              "    <tr>\n",
              "      <th>2389</th>\n",
              "      <td>3.0</td>\n",
              "      <td>0.0</td>\n",
              "      <td>0.448407</td>\n",
              "      <td>0.274937</td>\n",
              "      <td>0.418891</td>\n",
              "      <td>0.460836</td>\n",
              "      <td>0.176777</td>\n",
              "      <td>0.677723</td>\n",
              "      <td>-1.282332e-05</td>\n",
              "      <td>42.577215</td>\n",
              "      <td>-0.120935</td>\n",
              "    </tr>\n",
              "    <tr>\n",
              "      <th>2390</th>\n",
              "      <td>3.0</td>\n",
              "      <td>0.0</td>\n",
              "      <td>0.519529</td>\n",
              "      <td>0.283694</td>\n",
              "      <td>0.537028</td>\n",
              "      <td>0.522160</td>\n",
              "      <td>0.294764</td>\n",
              "      <td>0.736046</td>\n",
              "      <td>8.581803e-06</td>\n",
              "      <td>27.410843</td>\n",
              "      <td>-0.009101</td>\n",
              "    </tr>\n",
              "    <tr>\n",
              "      <th>2391</th>\n",
              "      <td>3.0</td>\n",
              "      <td>1.0</td>\n",
              "      <td>0.532872</td>\n",
              "      <td>0.284772</td>\n",
              "      <td>0.558522</td>\n",
              "      <td>0.501966</td>\n",
              "      <td>0.298883</td>\n",
              "      <td>0.747369</td>\n",
              "      <td>-2.371154e-06</td>\n",
              "      <td>29.862033</td>\n",
              "      <td>0.157132</td>\n",
              "    </tr>\n",
              "    <tr>\n",
              "      <th>2392</th>\n",
              "      <td>3.0</td>\n",
              "      <td>0.0</td>\n",
              "      <td>0.506230</td>\n",
              "      <td>0.281294</td>\n",
              "      <td>0.513469</td>\n",
              "      <td>0.417632</td>\n",
              "      <td>0.203651</td>\n",
              "      <td>0.724019</td>\n",
              "      <td>-2.262278e-06</td>\n",
              "      <td>38.568322</td>\n",
              "      <td>0.005107</td>\n",
              "    </tr>\n",
              "    <tr>\n",
              "      <th>2393</th>\n",
              "      <td>3.0</td>\n",
              "      <td>1.0</td>\n",
              "      <td>0.534341</td>\n",
              "      <td>0.285007</td>\n",
              "      <td>0.561251</td>\n",
              "      <td>0.549156</td>\n",
              "      <td>0.325218</td>\n",
              "      <td>0.748813</td>\n",
              "      <td>-2.603982e-06</td>\n",
              "      <td>22.892093</td>\n",
              "      <td>-0.015104</td>\n",
              "    </tr>\n",
              "  </tbody>\n",
              "</table>\n",
              "<p>6042 rows × 11 columns</p>\n",
              "</div>\n",
              "      <button class=\"colab-df-convert\" onclick=\"convertToInteractive('df-66a24d61-1de8-47a1-9f75-a8bbc3162906')\"\n",
              "              title=\"Convert this dataframe to an interactive table.\"\n",
              "              style=\"display:none;\">\n",
              "        \n",
              "  <svg xmlns=\"http://www.w3.org/2000/svg\" height=\"24px\"viewBox=\"0 0 24 24\"\n",
              "       width=\"24px\">\n",
              "    <path d=\"M0 0h24v24H0V0z\" fill=\"none\"/>\n",
              "    <path d=\"M18.56 5.44l.94 2.06.94-2.06 2.06-.94-2.06-.94-.94-2.06-.94 2.06-2.06.94zm-11 1L8.5 8.5l.94-2.06 2.06-.94-2.06-.94L8.5 2.5l-.94 2.06-2.06.94zm10 10l.94 2.06.94-2.06 2.06-.94-2.06-.94-.94-2.06-.94 2.06-2.06.94z\"/><path d=\"M17.41 7.96l-1.37-1.37c-.4-.4-.92-.59-1.43-.59-.52 0-1.04.2-1.43.59L10.3 9.45l-7.72 7.72c-.78.78-.78 2.05 0 2.83L4 21.41c.39.39.9.59 1.41.59.51 0 1.02-.2 1.41-.59l7.78-7.78 2.81-2.81c.8-.78.8-2.07 0-2.86zM5.41 20L4 18.59l7.72-7.72 1.47 1.35L5.41 20z\"/>\n",
              "  </svg>\n",
              "      </button>\n",
              "      \n",
              "  <style>\n",
              "    .colab-df-container {\n",
              "      display:flex;\n",
              "      flex-wrap:wrap;\n",
              "      gap: 12px;\n",
              "    }\n",
              "\n",
              "    .colab-df-convert {\n",
              "      background-color: #E8F0FE;\n",
              "      border: none;\n",
              "      border-radius: 50%;\n",
              "      cursor: pointer;\n",
              "      display: none;\n",
              "      fill: #1967D2;\n",
              "      height: 32px;\n",
              "      padding: 0 0 0 0;\n",
              "      width: 32px;\n",
              "    }\n",
              "\n",
              "    .colab-df-convert:hover {\n",
              "      background-color: #E2EBFA;\n",
              "      box-shadow: 0px 1px 2px rgba(60, 64, 67, 0.3), 0px 1px 3px 1px rgba(60, 64, 67, 0.15);\n",
              "      fill: #174EA6;\n",
              "    }\n",
              "\n",
              "    [theme=dark] .colab-df-convert {\n",
              "      background-color: #3B4455;\n",
              "      fill: #D2E3FC;\n",
              "    }\n",
              "\n",
              "    [theme=dark] .colab-df-convert:hover {\n",
              "      background-color: #434B5C;\n",
              "      box-shadow: 0px 1px 3px 1px rgba(0, 0, 0, 0.15);\n",
              "      filter: drop-shadow(0px 1px 2px rgba(0, 0, 0, 0.3));\n",
              "      fill: #FFFFFF;\n",
              "    }\n",
              "  </style>\n",
              "\n",
              "      <script>\n",
              "        const buttonEl =\n",
              "          document.querySelector('#df-66a24d61-1de8-47a1-9f75-a8bbc3162906 button.colab-df-convert');\n",
              "        buttonEl.style.display =\n",
              "          google.colab.kernel.accessAllowed ? 'block' : 'none';\n",
              "\n",
              "        async function convertToInteractive(key) {\n",
              "          const element = document.querySelector('#df-66a24d61-1de8-47a1-9f75-a8bbc3162906');\n",
              "          const dataTable =\n",
              "            await google.colab.kernel.invokeFunction('convertToInteractive',\n",
              "                                                     [key], {});\n",
              "          if (!dataTable) return;\n",
              "\n",
              "          const docLinkHtml = 'Like what you see? Visit the ' +\n",
              "            '<a target=\"_blank\" href=https://colab.research.google.com/notebooks/data_table.ipynb>data table notebook</a>'\n",
              "            + ' to learn more about interactive tables.';\n",
              "          element.innerHTML = '';\n",
              "          dataTable['output_type'] = 'display_data';\n",
              "          await google.colab.output.renderOutput(dataTable, element);\n",
              "          const docLink = document.createElement('div');\n",
              "          docLink.innerHTML = docLinkHtml;\n",
              "          element.appendChild(docLink);\n",
              "        }\n",
              "      </script>\n",
              "    </div>\n",
              "  </div>\n",
              "  "
            ]
          },
          "metadata": {}
        }
      ],
      "source": [
        "all_labeled = [eti_1, eti_2, eti_3]\n",
        "  \n",
        "all_labeled = pd.concat(all_labeled)\n",
        "display(all_labeled)"
      ]
    },
    {
      "cell_type": "code",
      "execution_count": null,
      "metadata": {
        "id": "j-TzvGuDENCl",
        "colab": {
          "base_uri": "https://localhost:8080/"
        },
        "outputId": "8957399f-18b9-4177-b95f-651c5e1e6817"
      },
      "outputs": [
        {
          "output_type": "stream",
          "name": "stdout",
          "text": [
            "      Patient        PE        SC       GNE        SE       LZC       STE  \\\n",
            "0         1.0  0.569169  0.285503  0.615967  0.428966  0.269077  0.777645   \n",
            "1         1.0  0.540103  0.283395  0.568056  0.411565  0.190297  0.751926   \n",
            "2         1.0  0.489490  0.280860  0.488495  0.465578  0.207542  0.710696   \n",
            "3         1.0  0.541447  0.283588  0.570310  0.412085  0.204437  0.753217   \n",
            "4         1.0  0.538152  0.283284  0.565175  0.433228  0.221188  0.750362   \n",
            "...       ...       ...       ...       ...       ...       ...       ...   \n",
            "2276      3.0  0.516479  0.282887  0.531147  0.464275  0.250580  0.732868   \n",
            "2277      3.0  0.487934  0.279556  0.483639  0.444114  0.207290  0.708959   \n",
            "2278      3.0  0.529587  0.283785  0.552341  0.490122  0.269728  0.744144   \n",
            "2279      3.0  0.493372  0.280451  0.493013  0.443925  0.209394  0.713554   \n",
            "2280      3.0  0.483616  0.278193  0.475671  0.416879  0.187882  0.705065   \n",
            "\n",
            "              Mean        Std      Skew  \n",
            "0    -1.057214e-06  25.648324 -0.026364  \n",
            "1    -4.563585e-06  54.238732 -0.091269  \n",
            "2     3.029157e-06  23.845106 -0.035229  \n",
            "3    -1.653840e-06  52.400790 -0.084385  \n",
            "4     2.011270e-07  44.700336 -0.058764  \n",
            "...            ...        ...       ...  \n",
            "2276  1.182837e-05  35.717262  0.028871  \n",
            "2277  5.198219e-05  63.084220 -0.028295  \n",
            "2278 -8.128566e-06  30.744780  0.004287  \n",
            "2279  3.173127e-05  61.687320  0.019371  \n",
            "2280 -5.368015e-05  69.037631  0.042493  \n",
            "\n",
            "[6119 rows x 10 columns]\n"
          ]
        }
      ],
      "source": [
        "all_not_labeled = pd.concat([no_eti_1,no_eti_2,no_eti_3])\n",
        "print(all_not_labeled)\n"
      ]
    },
    {
      "cell_type": "code",
      "execution_count": null,
      "metadata": {
        "id": "A2mUYIXYGZxJ"
      },
      "outputs": [],
      "source": [
        ""
      ]
    },
    {
      "cell_type": "markdown",
      "metadata": {
        "id": "PR63pBlwFFQI"
      },
      "source": [
        "En base a lo observado precedentemente, vimos que hay distintas cantidades de registros de señales de cada paciente, y que los datos etiquetados a diferencia de los datos no etiquetados, tienen una columna más, la columna 'State'.\n",
        "Para respetar el orden en que venían los datos, decidimos concatenar  por un lado, los datos etiquetados: **all_labeled**, y los no etiquetados por el otro **all_not_labeled**."
      ]
    },
    {
      "cell_type": "markdown",
      "metadata": {
        "id": "haa4bNddHPP-"
      },
      "source": [
        "2. Exploración\n",
        "\n"
      ]
    },
    {
      "cell_type": "markdown",
      "metadata": {
        "id": "UovbHuJNVtbk"
      },
      "source": [
        "- En base a lo que podemos entender conceptualmente sobre nuestras variables, existe alguna que a priori pueda tener una mayor influencia sobre nuestro objetivo a predecir? por qué?\n"
      ]
    },
    {
      "cell_type": "markdown",
      "metadata": {
        "id": "WxRF1DKgWPfJ"
      },
      "source": [
        "--------------------------------------------------------------------------------"
      ]
    },
    {
      "cell_type": "markdown",
      "metadata": {
        "id": "vQm4pTdsH2NE"
      },
      "source": [
        "- Los datasets contienen información recolectada de electroencefalogramas en 3 pacientes diferentes por 16 canales. Se eligieron 8 medidas de resumen de esas señales que forman parte de los datasets. Todas son númericas de tipo flotante. Nos llamó la atención el contenido de la columna 'State' de los datos etiquetados que si bien su contenido es numérico  (0 y 1), consideramos que se trataría de una variable categórica al distinguir entre el estado pre-ictal de los demás. "
      ]
    },
    {
      "cell_type": "code",
      "execution_count": null,
      "metadata": {
        "id": "p0FwIVieK-zZ",
        "colab": {
          "base_uri": "https://localhost:8080/"
        },
        "outputId": "a4c3bf61-2d8c-4325-d923-1561657e1abd"
      },
      "outputs": [
        {
          "output_type": "execute_result",
          "data": {
            "text/plain": [
              "0.0    5592\n",
              "1.0     450\n",
              "Name: State, dtype: int64"
            ]
          },
          "metadata": {},
          "execution_count": 19
        }
      ],
      "source": [
        "all_labeled['State'].value_counts()"
      ]
    },
    {
      "cell_type": "markdown",
      "metadata": {
        "id": "uYtss5e6Mqq_"
      },
      "source": [
        "- La variable a predecir 'State' estaría desbalanceada, ya que podemos observar que sólo el 7,45% de los datos del dataset corresponde a señales pre-ictales."
      ]
    },
    {
      "cell_type": "code",
      "execution_count": null,
      "metadata": {
        "id": "mR4n1atXNOQ2",
        "colab": {
          "base_uri": "https://localhost:8080/"
        },
        "outputId": "4d315811-ad17-43dc-951e-889c5c8af303"
      },
      "outputs": [
        {
          "output_type": "stream",
          "name": "stdout",
          "text": [
            "      Patient        PE        SC       GNE        SE       LZC       STE  \\\n",
            "0         1.0  0.598255  0.285388  0.662095  0.520937  0.325380  0.802138   \n",
            "1         1.0  0.541613  0.283209  0.570060  0.413078  0.195333  0.752879   \n",
            "2         1.0  0.543293  0.283316  0.572859  0.418008  0.199974  0.754335   \n",
            "3         1.0  0.535949  0.282724  0.560678  0.391206  0.166309  0.747854   \n",
            "4         1.0  0.436980  0.272283  0.398864  0.412815  0.116037  0.668147   \n",
            "...       ...       ...       ...       ...       ...       ...       ...   \n",
            "2389      3.0  0.448407  0.274937  0.418891  0.460836  0.176777  0.677723   \n",
            "2390      3.0  0.519529  0.283694  0.537028  0.522160  0.294764  0.736046   \n",
            "2391      3.0  0.532872  0.284772  0.558522  0.501966  0.298883  0.747369   \n",
            "2392      3.0  0.506230  0.281294  0.513469  0.417632  0.203651  0.724019   \n",
            "2393      3.0  0.534341  0.285007  0.561251  0.549156  0.325218  0.748813   \n",
            "\n",
            "              Mean        Std      Skew  \n",
            "0     4.426225e-06  15.557899 -0.000629  \n",
            "1     2.075434e-05  48.467869 -0.031036  \n",
            "2     5.322688e-06  46.771531 -0.077559  \n",
            "3    -1.353617e-05  48.590217 -0.024175  \n",
            "4    -5.555946e-07  41.749673 -0.087401  \n",
            "...            ...        ...       ...  \n",
            "2389 -1.282332e-05  42.577215 -0.120935  \n",
            "2390  8.581803e-06  27.410843 -0.009101  \n",
            "2391 -2.371154e-06  29.862033  0.157132  \n",
            "2392 -2.262278e-06  38.568322  0.005107  \n",
            "2393 -2.603982e-06  22.892093 -0.015104  \n",
            "\n",
            "[6042 rows x 10 columns]\n"
          ]
        }
      ],
      "source": [
        "all_labeled_no_state = all_labeled.drop(columns=['State'])\n",
        "print(all_labeled_no_state)"
      ]
    },
    {
      "cell_type": "code",
      "execution_count": null,
      "metadata": {
        "id": "g5LVJfXBO7Ay",
        "colab": {
          "base_uri": "https://localhost:8080/",
          "height": 424
        },
        "outputId": "bb65d95b-977f-47f1-bbe1-5f136bf63f20"
      },
      "outputs": [
        {
          "output_type": "execute_result",
          "data": {
            "text/plain": [
              "      Patient   PE   SC  GNE  SE       LZC  STE  Mean  Std  Skew\n",
              "20        1.0  0.0  0.0  0.0 NaN  0.000149  0.0   0.0  0.0   0.0\n",
              "34        1.0  0.0  0.0  0.0 NaN  0.000149  0.0   0.0  0.0   0.0\n",
              "47        1.0  0.0  0.0  0.0 NaN  0.000149  0.0   0.0  0.0   0.0\n",
              "52        1.0  0.0  0.0  0.0 NaN  0.000149  0.0   0.0  0.0   0.0\n",
              "117       1.0  0.0  0.0  0.0 NaN  0.000149  0.0   0.0  0.0   0.0\n",
              "...       ...  ...  ...  ...  ..       ...  ...   ...  ...   ...\n",
              "489       3.0  0.0  0.0  0.0 NaN  0.000149  0.0   0.0  0.0   0.0\n",
              "501       3.0  0.0  0.0  0.0 NaN  0.000149  0.0   0.0  0.0   0.0\n",
              "586       3.0  0.0  0.0  0.0 NaN  0.000149  0.0   0.0  0.0   0.0\n",
              "726       3.0  0.0  0.0  0.0 NaN  0.000149  0.0   0.0  0.0   0.0\n",
              "1450      3.0  0.0  0.0  0.0 NaN  0.000149  0.0   0.0  0.0   0.0\n",
              "\n",
              "[71 rows x 10 columns]"
            ],
            "text/html": [
              "\n",
              "  <div id=\"df-9c15b2cd-8f88-4c60-862e-b69a8f30f054\">\n",
              "    <div class=\"colab-df-container\">\n",
              "      <div>\n",
              "<style scoped>\n",
              "    .dataframe tbody tr th:only-of-type {\n",
              "        vertical-align: middle;\n",
              "    }\n",
              "\n",
              "    .dataframe tbody tr th {\n",
              "        vertical-align: top;\n",
              "    }\n",
              "\n",
              "    .dataframe thead th {\n",
              "        text-align: right;\n",
              "    }\n",
              "</style>\n",
              "<table border=\"1\" class=\"dataframe\">\n",
              "  <thead>\n",
              "    <tr style=\"text-align: right;\">\n",
              "      <th></th>\n",
              "      <th>Patient</th>\n",
              "      <th>PE</th>\n",
              "      <th>SC</th>\n",
              "      <th>GNE</th>\n",
              "      <th>SE</th>\n",
              "      <th>LZC</th>\n",
              "      <th>STE</th>\n",
              "      <th>Mean</th>\n",
              "      <th>Std</th>\n",
              "      <th>Skew</th>\n",
              "    </tr>\n",
              "  </thead>\n",
              "  <tbody>\n",
              "    <tr>\n",
              "      <th>20</th>\n",
              "      <td>1.0</td>\n",
              "      <td>0.0</td>\n",
              "      <td>0.0</td>\n",
              "      <td>0.0</td>\n",
              "      <td>NaN</td>\n",
              "      <td>0.000149</td>\n",
              "      <td>0.0</td>\n",
              "      <td>0.0</td>\n",
              "      <td>0.0</td>\n",
              "      <td>0.0</td>\n",
              "    </tr>\n",
              "    <tr>\n",
              "      <th>34</th>\n",
              "      <td>1.0</td>\n",
              "      <td>0.0</td>\n",
              "      <td>0.0</td>\n",
              "      <td>0.0</td>\n",
              "      <td>NaN</td>\n",
              "      <td>0.000149</td>\n",
              "      <td>0.0</td>\n",
              "      <td>0.0</td>\n",
              "      <td>0.0</td>\n",
              "      <td>0.0</td>\n",
              "    </tr>\n",
              "    <tr>\n",
              "      <th>47</th>\n",
              "      <td>1.0</td>\n",
              "      <td>0.0</td>\n",
              "      <td>0.0</td>\n",
              "      <td>0.0</td>\n",
              "      <td>NaN</td>\n",
              "      <td>0.000149</td>\n",
              "      <td>0.0</td>\n",
              "      <td>0.0</td>\n",
              "      <td>0.0</td>\n",
              "      <td>0.0</td>\n",
              "    </tr>\n",
              "    <tr>\n",
              "      <th>52</th>\n",
              "      <td>1.0</td>\n",
              "      <td>0.0</td>\n",
              "      <td>0.0</td>\n",
              "      <td>0.0</td>\n",
              "      <td>NaN</td>\n",
              "      <td>0.000149</td>\n",
              "      <td>0.0</td>\n",
              "      <td>0.0</td>\n",
              "      <td>0.0</td>\n",
              "      <td>0.0</td>\n",
              "    </tr>\n",
              "    <tr>\n",
              "      <th>117</th>\n",
              "      <td>1.0</td>\n",
              "      <td>0.0</td>\n",
              "      <td>0.0</td>\n",
              "      <td>0.0</td>\n",
              "      <td>NaN</td>\n",
              "      <td>0.000149</td>\n",
              "      <td>0.0</td>\n",
              "      <td>0.0</td>\n",
              "      <td>0.0</td>\n",
              "      <td>0.0</td>\n",
              "    </tr>\n",
              "    <tr>\n",
              "      <th>...</th>\n",
              "      <td>...</td>\n",
              "      <td>...</td>\n",
              "      <td>...</td>\n",
              "      <td>...</td>\n",
              "      <td>...</td>\n",
              "      <td>...</td>\n",
              "      <td>...</td>\n",
              "      <td>...</td>\n",
              "      <td>...</td>\n",
              "      <td>...</td>\n",
              "    </tr>\n",
              "    <tr>\n",
              "      <th>489</th>\n",
              "      <td>3.0</td>\n",
              "      <td>0.0</td>\n",
              "      <td>0.0</td>\n",
              "      <td>0.0</td>\n",
              "      <td>NaN</td>\n",
              "      <td>0.000149</td>\n",
              "      <td>0.0</td>\n",
              "      <td>0.0</td>\n",
              "      <td>0.0</td>\n",
              "      <td>0.0</td>\n",
              "    </tr>\n",
              "    <tr>\n",
              "      <th>501</th>\n",
              "      <td>3.0</td>\n",
              "      <td>0.0</td>\n",
              "      <td>0.0</td>\n",
              "      <td>0.0</td>\n",
              "      <td>NaN</td>\n",
              "      <td>0.000149</td>\n",
              "      <td>0.0</td>\n",
              "      <td>0.0</td>\n",
              "      <td>0.0</td>\n",
              "      <td>0.0</td>\n",
              "    </tr>\n",
              "    <tr>\n",
              "      <th>586</th>\n",
              "      <td>3.0</td>\n",
              "      <td>0.0</td>\n",
              "      <td>0.0</td>\n",
              "      <td>0.0</td>\n",
              "      <td>NaN</td>\n",
              "      <td>0.000149</td>\n",
              "      <td>0.0</td>\n",
              "      <td>0.0</td>\n",
              "      <td>0.0</td>\n",
              "      <td>0.0</td>\n",
              "    </tr>\n",
              "    <tr>\n",
              "      <th>726</th>\n",
              "      <td>3.0</td>\n",
              "      <td>0.0</td>\n",
              "      <td>0.0</td>\n",
              "      <td>0.0</td>\n",
              "      <td>NaN</td>\n",
              "      <td>0.000149</td>\n",
              "      <td>0.0</td>\n",
              "      <td>0.0</td>\n",
              "      <td>0.0</td>\n",
              "      <td>0.0</td>\n",
              "    </tr>\n",
              "    <tr>\n",
              "      <th>1450</th>\n",
              "      <td>3.0</td>\n",
              "      <td>0.0</td>\n",
              "      <td>0.0</td>\n",
              "      <td>0.0</td>\n",
              "      <td>NaN</td>\n",
              "      <td>0.000149</td>\n",
              "      <td>0.0</td>\n",
              "      <td>0.0</td>\n",
              "      <td>0.0</td>\n",
              "      <td>0.0</td>\n",
              "    </tr>\n",
              "  </tbody>\n",
              "</table>\n",
              "<p>71 rows × 10 columns</p>\n",
              "</div>\n",
              "      <button class=\"colab-df-convert\" onclick=\"convertToInteractive('df-9c15b2cd-8f88-4c60-862e-b69a8f30f054')\"\n",
              "              title=\"Convert this dataframe to an interactive table.\"\n",
              "              style=\"display:none;\">\n",
              "        \n",
              "  <svg xmlns=\"http://www.w3.org/2000/svg\" height=\"24px\"viewBox=\"0 0 24 24\"\n",
              "       width=\"24px\">\n",
              "    <path d=\"M0 0h24v24H0V0z\" fill=\"none\"/>\n",
              "    <path d=\"M18.56 5.44l.94 2.06.94-2.06 2.06-.94-2.06-.94-.94-2.06-.94 2.06-2.06.94zm-11 1L8.5 8.5l.94-2.06 2.06-.94-2.06-.94L8.5 2.5l-.94 2.06-2.06.94zm10 10l.94 2.06.94-2.06 2.06-.94-2.06-.94-.94-2.06-.94 2.06-2.06.94z\"/><path d=\"M17.41 7.96l-1.37-1.37c-.4-.4-.92-.59-1.43-.59-.52 0-1.04.2-1.43.59L10.3 9.45l-7.72 7.72c-.78.78-.78 2.05 0 2.83L4 21.41c.39.39.9.59 1.41.59.51 0 1.02-.2 1.41-.59l7.78-7.78 2.81-2.81c.8-.78.8-2.07 0-2.86zM5.41 20L4 18.59l7.72-7.72 1.47 1.35L5.41 20z\"/>\n",
              "  </svg>\n",
              "      </button>\n",
              "      \n",
              "  <style>\n",
              "    .colab-df-container {\n",
              "      display:flex;\n",
              "      flex-wrap:wrap;\n",
              "      gap: 12px;\n",
              "    }\n",
              "\n",
              "    .colab-df-convert {\n",
              "      background-color: #E8F0FE;\n",
              "      border: none;\n",
              "      border-radius: 50%;\n",
              "      cursor: pointer;\n",
              "      display: none;\n",
              "      fill: #1967D2;\n",
              "      height: 32px;\n",
              "      padding: 0 0 0 0;\n",
              "      width: 32px;\n",
              "    }\n",
              "\n",
              "    .colab-df-convert:hover {\n",
              "      background-color: #E2EBFA;\n",
              "      box-shadow: 0px 1px 2px rgba(60, 64, 67, 0.3), 0px 1px 3px 1px rgba(60, 64, 67, 0.15);\n",
              "      fill: #174EA6;\n",
              "    }\n",
              "\n",
              "    [theme=dark] .colab-df-convert {\n",
              "      background-color: #3B4455;\n",
              "      fill: #D2E3FC;\n",
              "    }\n",
              "\n",
              "    [theme=dark] .colab-df-convert:hover {\n",
              "      background-color: #434B5C;\n",
              "      box-shadow: 0px 1px 3px 1px rgba(0, 0, 0, 0.15);\n",
              "      filter: drop-shadow(0px 1px 2px rgba(0, 0, 0, 0.3));\n",
              "      fill: #FFFFFF;\n",
              "    }\n",
              "  </style>\n",
              "\n",
              "      <script>\n",
              "        const buttonEl =\n",
              "          document.querySelector('#df-9c15b2cd-8f88-4c60-862e-b69a8f30f054 button.colab-df-convert');\n",
              "        buttonEl.style.display =\n",
              "          google.colab.kernel.accessAllowed ? 'block' : 'none';\n",
              "\n",
              "        async function convertToInteractive(key) {\n",
              "          const element = document.querySelector('#df-9c15b2cd-8f88-4c60-862e-b69a8f30f054');\n",
              "          const dataTable =\n",
              "            await google.colab.kernel.invokeFunction('convertToInteractive',\n",
              "                                                     [key], {});\n",
              "          if (!dataTable) return;\n",
              "\n",
              "          const docLinkHtml = 'Like what you see? Visit the ' +\n",
              "            '<a target=\"_blank\" href=https://colab.research.google.com/notebooks/data_table.ipynb>data table notebook</a>'\n",
              "            + ' to learn more about interactive tables.';\n",
              "          element.innerHTML = '';\n",
              "          dataTable['output_type'] = 'display_data';\n",
              "          await google.colab.output.renderOutput(dataTable, element);\n",
              "          const docLink = document.createElement('div');\n",
              "          docLink.innerHTML = docLinkHtml;\n",
              "          element.appendChild(docLink);\n",
              "        }\n",
              "      </script>\n",
              "    </div>\n",
              "  </div>\n",
              "  "
            ]
          },
          "metadata": {},
          "execution_count": 21
        }
      ],
      "source": [
        "all_labeled_no_state[all_labeled_no_state['Mean']==0.0]"
      ]
    },
    {
      "cell_type": "code",
      "execution_count": null,
      "metadata": {
        "id": "KYj7akA-SN8C",
        "colab": {
          "base_uri": "https://localhost:8080/",
          "height": 424
        },
        "outputId": "79159780-6fe8-4620-8e67-afcd71e162be"
      },
      "outputs": [
        {
          "output_type": "execute_result",
          "data": {
            "text/plain": [
              "      Patient   PE   SC  GNE  SE       LZC  STE  Mean  Std  Skew\n",
              "20        1.0  0.0  0.0  0.0 NaN  0.000149  0.0   0.0  0.0   0.0\n",
              "34        1.0  0.0  0.0  0.0 NaN  0.000149  0.0   0.0  0.0   0.0\n",
              "47        1.0  0.0  0.0  0.0 NaN  0.000149  0.0   0.0  0.0   0.0\n",
              "52        1.0  0.0  0.0  0.0 NaN  0.000149  0.0   0.0  0.0   0.0\n",
              "117       1.0  0.0  0.0  0.0 NaN  0.000149  0.0   0.0  0.0   0.0\n",
              "...       ...  ...  ...  ...  ..       ...  ...   ...  ...   ...\n",
              "489       3.0  0.0  0.0  0.0 NaN  0.000149  0.0   0.0  0.0   0.0\n",
              "501       3.0  0.0  0.0  0.0 NaN  0.000149  0.0   0.0  0.0   0.0\n",
              "586       3.0  0.0  0.0  0.0 NaN  0.000149  0.0   0.0  0.0   0.0\n",
              "726       3.0  0.0  0.0  0.0 NaN  0.000149  0.0   0.0  0.0   0.0\n",
              "1450      3.0  0.0  0.0  0.0 NaN  0.000149  0.0   0.0  0.0   0.0\n",
              "\n",
              "[71 rows x 10 columns]"
            ],
            "text/html": [
              "\n",
              "  <div id=\"df-7d0a8e64-00bb-4846-ae8a-92a269253415\">\n",
              "    <div class=\"colab-df-container\">\n",
              "      <div>\n",
              "<style scoped>\n",
              "    .dataframe tbody tr th:only-of-type {\n",
              "        vertical-align: middle;\n",
              "    }\n",
              "\n",
              "    .dataframe tbody tr th {\n",
              "        vertical-align: top;\n",
              "    }\n",
              "\n",
              "    .dataframe thead th {\n",
              "        text-align: right;\n",
              "    }\n",
              "</style>\n",
              "<table border=\"1\" class=\"dataframe\">\n",
              "  <thead>\n",
              "    <tr style=\"text-align: right;\">\n",
              "      <th></th>\n",
              "      <th>Patient</th>\n",
              "      <th>PE</th>\n",
              "      <th>SC</th>\n",
              "      <th>GNE</th>\n",
              "      <th>SE</th>\n",
              "      <th>LZC</th>\n",
              "      <th>STE</th>\n",
              "      <th>Mean</th>\n",
              "      <th>Std</th>\n",
              "      <th>Skew</th>\n",
              "    </tr>\n",
              "  </thead>\n",
              "  <tbody>\n",
              "    <tr>\n",
              "      <th>20</th>\n",
              "      <td>1.0</td>\n",
              "      <td>0.0</td>\n",
              "      <td>0.0</td>\n",
              "      <td>0.0</td>\n",
              "      <td>NaN</td>\n",
              "      <td>0.000149</td>\n",
              "      <td>0.0</td>\n",
              "      <td>0.0</td>\n",
              "      <td>0.0</td>\n",
              "      <td>0.0</td>\n",
              "    </tr>\n",
              "    <tr>\n",
              "      <th>34</th>\n",
              "      <td>1.0</td>\n",
              "      <td>0.0</td>\n",
              "      <td>0.0</td>\n",
              "      <td>0.0</td>\n",
              "      <td>NaN</td>\n",
              "      <td>0.000149</td>\n",
              "      <td>0.0</td>\n",
              "      <td>0.0</td>\n",
              "      <td>0.0</td>\n",
              "      <td>0.0</td>\n",
              "    </tr>\n",
              "    <tr>\n",
              "      <th>47</th>\n",
              "      <td>1.0</td>\n",
              "      <td>0.0</td>\n",
              "      <td>0.0</td>\n",
              "      <td>0.0</td>\n",
              "      <td>NaN</td>\n",
              "      <td>0.000149</td>\n",
              "      <td>0.0</td>\n",
              "      <td>0.0</td>\n",
              "      <td>0.0</td>\n",
              "      <td>0.0</td>\n",
              "    </tr>\n",
              "    <tr>\n",
              "      <th>52</th>\n",
              "      <td>1.0</td>\n",
              "      <td>0.0</td>\n",
              "      <td>0.0</td>\n",
              "      <td>0.0</td>\n",
              "      <td>NaN</td>\n",
              "      <td>0.000149</td>\n",
              "      <td>0.0</td>\n",
              "      <td>0.0</td>\n",
              "      <td>0.0</td>\n",
              "      <td>0.0</td>\n",
              "    </tr>\n",
              "    <tr>\n",
              "      <th>117</th>\n",
              "      <td>1.0</td>\n",
              "      <td>0.0</td>\n",
              "      <td>0.0</td>\n",
              "      <td>0.0</td>\n",
              "      <td>NaN</td>\n",
              "      <td>0.000149</td>\n",
              "      <td>0.0</td>\n",
              "      <td>0.0</td>\n",
              "      <td>0.0</td>\n",
              "      <td>0.0</td>\n",
              "    </tr>\n",
              "    <tr>\n",
              "      <th>...</th>\n",
              "      <td>...</td>\n",
              "      <td>...</td>\n",
              "      <td>...</td>\n",
              "      <td>...</td>\n",
              "      <td>...</td>\n",
              "      <td>...</td>\n",
              "      <td>...</td>\n",
              "      <td>...</td>\n",
              "      <td>...</td>\n",
              "      <td>...</td>\n",
              "    </tr>\n",
              "    <tr>\n",
              "      <th>489</th>\n",
              "      <td>3.0</td>\n",
              "      <td>0.0</td>\n",
              "      <td>0.0</td>\n",
              "      <td>0.0</td>\n",
              "      <td>NaN</td>\n",
              "      <td>0.000149</td>\n",
              "      <td>0.0</td>\n",
              "      <td>0.0</td>\n",
              "      <td>0.0</td>\n",
              "      <td>0.0</td>\n",
              "    </tr>\n",
              "    <tr>\n",
              "      <th>501</th>\n",
              "      <td>3.0</td>\n",
              "      <td>0.0</td>\n",
              "      <td>0.0</td>\n",
              "      <td>0.0</td>\n",
              "      <td>NaN</td>\n",
              "      <td>0.000149</td>\n",
              "      <td>0.0</td>\n",
              "      <td>0.0</td>\n",
              "      <td>0.0</td>\n",
              "      <td>0.0</td>\n",
              "    </tr>\n",
              "    <tr>\n",
              "      <th>586</th>\n",
              "      <td>3.0</td>\n",
              "      <td>0.0</td>\n",
              "      <td>0.0</td>\n",
              "      <td>0.0</td>\n",
              "      <td>NaN</td>\n",
              "      <td>0.000149</td>\n",
              "      <td>0.0</td>\n",
              "      <td>0.0</td>\n",
              "      <td>0.0</td>\n",
              "      <td>0.0</td>\n",
              "    </tr>\n",
              "    <tr>\n",
              "      <th>726</th>\n",
              "      <td>3.0</td>\n",
              "      <td>0.0</td>\n",
              "      <td>0.0</td>\n",
              "      <td>0.0</td>\n",
              "      <td>NaN</td>\n",
              "      <td>0.000149</td>\n",
              "      <td>0.0</td>\n",
              "      <td>0.0</td>\n",
              "      <td>0.0</td>\n",
              "      <td>0.0</td>\n",
              "    </tr>\n",
              "    <tr>\n",
              "      <th>1450</th>\n",
              "      <td>3.0</td>\n",
              "      <td>0.0</td>\n",
              "      <td>0.0</td>\n",
              "      <td>0.0</td>\n",
              "      <td>NaN</td>\n",
              "      <td>0.000149</td>\n",
              "      <td>0.0</td>\n",
              "      <td>0.0</td>\n",
              "      <td>0.0</td>\n",
              "      <td>0.0</td>\n",
              "    </tr>\n",
              "  </tbody>\n",
              "</table>\n",
              "<p>71 rows × 10 columns</p>\n",
              "</div>\n",
              "      <button class=\"colab-df-convert\" onclick=\"convertToInteractive('df-7d0a8e64-00bb-4846-ae8a-92a269253415')\"\n",
              "              title=\"Convert this dataframe to an interactive table.\"\n",
              "              style=\"display:none;\">\n",
              "        \n",
              "  <svg xmlns=\"http://www.w3.org/2000/svg\" height=\"24px\"viewBox=\"0 0 24 24\"\n",
              "       width=\"24px\">\n",
              "    <path d=\"M0 0h24v24H0V0z\" fill=\"none\"/>\n",
              "    <path d=\"M18.56 5.44l.94 2.06.94-2.06 2.06-.94-2.06-.94-.94-2.06-.94 2.06-2.06.94zm-11 1L8.5 8.5l.94-2.06 2.06-.94-2.06-.94L8.5 2.5l-.94 2.06-2.06.94zm10 10l.94 2.06.94-2.06 2.06-.94-2.06-.94-.94-2.06-.94 2.06-2.06.94z\"/><path d=\"M17.41 7.96l-1.37-1.37c-.4-.4-.92-.59-1.43-.59-.52 0-1.04.2-1.43.59L10.3 9.45l-7.72 7.72c-.78.78-.78 2.05 0 2.83L4 21.41c.39.39.9.59 1.41.59.51 0 1.02-.2 1.41-.59l7.78-7.78 2.81-2.81c.8-.78.8-2.07 0-2.86zM5.41 20L4 18.59l7.72-7.72 1.47 1.35L5.41 20z\"/>\n",
              "  </svg>\n",
              "      </button>\n",
              "      \n",
              "  <style>\n",
              "    .colab-df-container {\n",
              "      display:flex;\n",
              "      flex-wrap:wrap;\n",
              "      gap: 12px;\n",
              "    }\n",
              "\n",
              "    .colab-df-convert {\n",
              "      background-color: #E8F0FE;\n",
              "      border: none;\n",
              "      border-radius: 50%;\n",
              "      cursor: pointer;\n",
              "      display: none;\n",
              "      fill: #1967D2;\n",
              "      height: 32px;\n",
              "      padding: 0 0 0 0;\n",
              "      width: 32px;\n",
              "    }\n",
              "\n",
              "    .colab-df-convert:hover {\n",
              "      background-color: #E2EBFA;\n",
              "      box-shadow: 0px 1px 2px rgba(60, 64, 67, 0.3), 0px 1px 3px 1px rgba(60, 64, 67, 0.15);\n",
              "      fill: #174EA6;\n",
              "    }\n",
              "\n",
              "    [theme=dark] .colab-df-convert {\n",
              "      background-color: #3B4455;\n",
              "      fill: #D2E3FC;\n",
              "    }\n",
              "\n",
              "    [theme=dark] .colab-df-convert:hover {\n",
              "      background-color: #434B5C;\n",
              "      box-shadow: 0px 1px 3px 1px rgba(0, 0, 0, 0.15);\n",
              "      filter: drop-shadow(0px 1px 2px rgba(0, 0, 0, 0.3));\n",
              "      fill: #FFFFFF;\n",
              "    }\n",
              "  </style>\n",
              "\n",
              "      <script>\n",
              "        const buttonEl =\n",
              "          document.querySelector('#df-7d0a8e64-00bb-4846-ae8a-92a269253415 button.colab-df-convert');\n",
              "        buttonEl.style.display =\n",
              "          google.colab.kernel.accessAllowed ? 'block' : 'none';\n",
              "\n",
              "        async function convertToInteractive(key) {\n",
              "          const element = document.querySelector('#df-7d0a8e64-00bb-4846-ae8a-92a269253415');\n",
              "          const dataTable =\n",
              "            await google.colab.kernel.invokeFunction('convertToInteractive',\n",
              "                                                     [key], {});\n",
              "          if (!dataTable) return;\n",
              "\n",
              "          const docLinkHtml = 'Like what you see? Visit the ' +\n",
              "            '<a target=\"_blank\" href=https://colab.research.google.com/notebooks/data_table.ipynb>data table notebook</a>'\n",
              "            + ' to learn more about interactive tables.';\n",
              "          element.innerHTML = '';\n",
              "          dataTable['output_type'] = 'display_data';\n",
              "          await google.colab.output.renderOutput(dataTable, element);\n",
              "          const docLink = document.createElement('div');\n",
              "          docLink.innerHTML = docLinkHtml;\n",
              "          element.appendChild(docLink);\n",
              "        }\n",
              "      </script>\n",
              "    </div>\n",
              "  </div>\n",
              "  "
            ]
          },
          "metadata": {},
          "execution_count": 22
        }
      ],
      "source": [
        "all_labeled_no_state[all_labeled_no_state.isna().any(axis=1)]"
      ]
    },
    {
      "cell_type": "code",
      "source": [
        "all_labeled[all_labeled.isna().any(axis=1)]['State'].value_counts()"
      ],
      "metadata": {
        "id": "YAo7g8mOAAMn",
        "colab": {
          "base_uri": "https://localhost:8080/"
        },
        "outputId": "4bc7527e-9370-421a-c1dc-ec954a80b502"
      },
      "execution_count": null,
      "outputs": [
        {
          "output_type": "execute_result",
          "data": {
            "text/plain": [
              "0.0    56\n",
              "1.0    15\n",
              "Name: State, dtype: int64"
            ]
          },
          "metadata": {},
          "execution_count": 23
        }
      ]
    },
    {
      "cell_type": "markdown",
      "metadata": {
        "id": "cFHxGJNnS4bl"
      },
      "source": [
        "- Dado que la columna 'Mean' calcula la media de los registros de señales eléctricas de los 16 electrodos, pensamos que sería interesante analizar si habían registros en el dataset con media = 0, lo que inferiría una falta de información. \n",
        "Investigamos el dataset para ver si habían medias = 0, y observamos que habían 71 filas que cumplían con dicho supuesto, y que el resto de las variables salvo LZC también son 0, por lo que concluiríamos que se trata de registros sin datos.\n",
        "Analizamos a su vez los registros en los que habían NaN en el dataset, y serían los mismos que tienen media = 0. \n",
        "El tipo de curación que aplicaríamos sería descartar todas las filas con NaN, que aparentemente no tienen información en ninguna de las columnas, y representa el 1,2% de los datos etiquetados.\n",
        "Del 1,2%, 15 registros de los 71 que descartaríamos corresponden a State 1, es decir pre-ictal.\n"
      ]
    },
    {
      "cell_type": "markdown",
      "source": [
        "**Correlación de variables del Dataset**"
      ],
      "metadata": {
        "id": "tsUfePy-HANR"
      }
    },
    {
      "cell_type": "code",
      "source": [
        "all_labeled.corr()"
      ],
      "metadata": {
        "id": "GwAzjF36F_Mp",
        "colab": {
          "base_uri": "https://localhost:8080/",
          "height": 394
        },
        "outputId": "7ac1d52e-72c2-401b-d129-884f8cde8616"
      },
      "execution_count": null,
      "outputs": [
        {
          "output_type": "execute_result",
          "data": {
            "text/plain": [
              "          Patient     State        PE        SC       GNE        SE       LZC  \\\n",
              "Patient  1.000000 -0.067376 -0.049261  0.105555 -0.094167 -0.060284  0.004698   \n",
              "State   -0.067376  1.000000 -0.004087 -0.046713  0.015026  0.068300  0.056307   \n",
              "PE      -0.049261 -0.004087  1.000000  0.902526  0.975945  0.267377  0.774117   \n",
              "SC       0.105555 -0.046713  0.902526  1.000000  0.793612  0.100009  0.565211   \n",
              "GNE     -0.094167  0.015026  0.975945  0.793612  1.000000  0.289868  0.823954   \n",
              "SE      -0.060284  0.068300  0.267377  0.100009  0.289868  1.000000  0.769799   \n",
              "LZC      0.004698  0.056307  0.774117  0.565211  0.823954  0.769799  1.000000   \n",
              "STE      0.006315 -0.022505  0.974524  0.966578  0.903101  0.231525  0.691549   \n",
              "Mean    -0.007836  0.013470 -0.014418 -0.007882 -0.016211 -0.017321 -0.022350   \n",
              "Std      0.033053 -0.155819  0.360670  0.436355  0.314002 -0.412855 -0.006779   \n",
              "Skew     0.182998  0.005574  0.053258  0.051978  0.069062 -0.221983 -0.035960   \n",
              "\n",
              "              STE      Mean       Std      Skew  \n",
              "Patient  0.006315 -0.007836  0.033053  0.182998  \n",
              "State   -0.022505  0.013470 -0.155819  0.005574  \n",
              "PE       0.974524 -0.014418  0.360670  0.053258  \n",
              "SC       0.966578 -0.007882  0.436355  0.051978  \n",
              "GNE      0.903101 -0.016211  0.314002  0.069062  \n",
              "SE       0.231525 -0.017321 -0.412855 -0.221983  \n",
              "LZC      0.691549 -0.022350 -0.006779 -0.035960  \n",
              "STE      1.000000 -0.012996  0.385309  0.033639  \n",
              "Mean    -0.012996  1.000000  0.007519 -0.000291  \n",
              "Std      0.385309  0.007519  1.000000  0.061649  \n",
              "Skew     0.033639 -0.000291  0.061649  1.000000  "
            ],
            "text/html": [
              "\n",
              "  <div id=\"df-aafc0357-5c50-49c9-bd47-26d58d953773\">\n",
              "    <div class=\"colab-df-container\">\n",
              "      <div>\n",
              "<style scoped>\n",
              "    .dataframe tbody tr th:only-of-type {\n",
              "        vertical-align: middle;\n",
              "    }\n",
              "\n",
              "    .dataframe tbody tr th {\n",
              "        vertical-align: top;\n",
              "    }\n",
              "\n",
              "    .dataframe thead th {\n",
              "        text-align: right;\n",
              "    }\n",
              "</style>\n",
              "<table border=\"1\" class=\"dataframe\">\n",
              "  <thead>\n",
              "    <tr style=\"text-align: right;\">\n",
              "      <th></th>\n",
              "      <th>Patient</th>\n",
              "      <th>State</th>\n",
              "      <th>PE</th>\n",
              "      <th>SC</th>\n",
              "      <th>GNE</th>\n",
              "      <th>SE</th>\n",
              "      <th>LZC</th>\n",
              "      <th>STE</th>\n",
              "      <th>Mean</th>\n",
              "      <th>Std</th>\n",
              "      <th>Skew</th>\n",
              "    </tr>\n",
              "  </thead>\n",
              "  <tbody>\n",
              "    <tr>\n",
              "      <th>Patient</th>\n",
              "      <td>1.000000</td>\n",
              "      <td>-0.067376</td>\n",
              "      <td>-0.049261</td>\n",
              "      <td>0.105555</td>\n",
              "      <td>-0.094167</td>\n",
              "      <td>-0.060284</td>\n",
              "      <td>0.004698</td>\n",
              "      <td>0.006315</td>\n",
              "      <td>-0.007836</td>\n",
              "      <td>0.033053</td>\n",
              "      <td>0.182998</td>\n",
              "    </tr>\n",
              "    <tr>\n",
              "      <th>State</th>\n",
              "      <td>-0.067376</td>\n",
              "      <td>1.000000</td>\n",
              "      <td>-0.004087</td>\n",
              "      <td>-0.046713</td>\n",
              "      <td>0.015026</td>\n",
              "      <td>0.068300</td>\n",
              "      <td>0.056307</td>\n",
              "      <td>-0.022505</td>\n",
              "      <td>0.013470</td>\n",
              "      <td>-0.155819</td>\n",
              "      <td>0.005574</td>\n",
              "    </tr>\n",
              "    <tr>\n",
              "      <th>PE</th>\n",
              "      <td>-0.049261</td>\n",
              "      <td>-0.004087</td>\n",
              "      <td>1.000000</td>\n",
              "      <td>0.902526</td>\n",
              "      <td>0.975945</td>\n",
              "      <td>0.267377</td>\n",
              "      <td>0.774117</td>\n",
              "      <td>0.974524</td>\n",
              "      <td>-0.014418</td>\n",
              "      <td>0.360670</td>\n",
              "      <td>0.053258</td>\n",
              "    </tr>\n",
              "    <tr>\n",
              "      <th>SC</th>\n",
              "      <td>0.105555</td>\n",
              "      <td>-0.046713</td>\n",
              "      <td>0.902526</td>\n",
              "      <td>1.000000</td>\n",
              "      <td>0.793612</td>\n",
              "      <td>0.100009</td>\n",
              "      <td>0.565211</td>\n",
              "      <td>0.966578</td>\n",
              "      <td>-0.007882</td>\n",
              "      <td>0.436355</td>\n",
              "      <td>0.051978</td>\n",
              "    </tr>\n",
              "    <tr>\n",
              "      <th>GNE</th>\n",
              "      <td>-0.094167</td>\n",
              "      <td>0.015026</td>\n",
              "      <td>0.975945</td>\n",
              "      <td>0.793612</td>\n",
              "      <td>1.000000</td>\n",
              "      <td>0.289868</td>\n",
              "      <td>0.823954</td>\n",
              "      <td>0.903101</td>\n",
              "      <td>-0.016211</td>\n",
              "      <td>0.314002</td>\n",
              "      <td>0.069062</td>\n",
              "    </tr>\n",
              "    <tr>\n",
              "      <th>SE</th>\n",
              "      <td>-0.060284</td>\n",
              "      <td>0.068300</td>\n",
              "      <td>0.267377</td>\n",
              "      <td>0.100009</td>\n",
              "      <td>0.289868</td>\n",
              "      <td>1.000000</td>\n",
              "      <td>0.769799</td>\n",
              "      <td>0.231525</td>\n",
              "      <td>-0.017321</td>\n",
              "      <td>-0.412855</td>\n",
              "      <td>-0.221983</td>\n",
              "    </tr>\n",
              "    <tr>\n",
              "      <th>LZC</th>\n",
              "      <td>0.004698</td>\n",
              "      <td>0.056307</td>\n",
              "      <td>0.774117</td>\n",
              "      <td>0.565211</td>\n",
              "      <td>0.823954</td>\n",
              "      <td>0.769799</td>\n",
              "      <td>1.000000</td>\n",
              "      <td>0.691549</td>\n",
              "      <td>-0.022350</td>\n",
              "      <td>-0.006779</td>\n",
              "      <td>-0.035960</td>\n",
              "    </tr>\n",
              "    <tr>\n",
              "      <th>STE</th>\n",
              "      <td>0.006315</td>\n",
              "      <td>-0.022505</td>\n",
              "      <td>0.974524</td>\n",
              "      <td>0.966578</td>\n",
              "      <td>0.903101</td>\n",
              "      <td>0.231525</td>\n",
              "      <td>0.691549</td>\n",
              "      <td>1.000000</td>\n",
              "      <td>-0.012996</td>\n",
              "      <td>0.385309</td>\n",
              "      <td>0.033639</td>\n",
              "    </tr>\n",
              "    <tr>\n",
              "      <th>Mean</th>\n",
              "      <td>-0.007836</td>\n",
              "      <td>0.013470</td>\n",
              "      <td>-0.014418</td>\n",
              "      <td>-0.007882</td>\n",
              "      <td>-0.016211</td>\n",
              "      <td>-0.017321</td>\n",
              "      <td>-0.022350</td>\n",
              "      <td>-0.012996</td>\n",
              "      <td>1.000000</td>\n",
              "      <td>0.007519</td>\n",
              "      <td>-0.000291</td>\n",
              "    </tr>\n",
              "    <tr>\n",
              "      <th>Std</th>\n",
              "      <td>0.033053</td>\n",
              "      <td>-0.155819</td>\n",
              "      <td>0.360670</td>\n",
              "      <td>0.436355</td>\n",
              "      <td>0.314002</td>\n",
              "      <td>-0.412855</td>\n",
              "      <td>-0.006779</td>\n",
              "      <td>0.385309</td>\n",
              "      <td>0.007519</td>\n",
              "      <td>1.000000</td>\n",
              "      <td>0.061649</td>\n",
              "    </tr>\n",
              "    <tr>\n",
              "      <th>Skew</th>\n",
              "      <td>0.182998</td>\n",
              "      <td>0.005574</td>\n",
              "      <td>0.053258</td>\n",
              "      <td>0.051978</td>\n",
              "      <td>0.069062</td>\n",
              "      <td>-0.221983</td>\n",
              "      <td>-0.035960</td>\n",
              "      <td>0.033639</td>\n",
              "      <td>-0.000291</td>\n",
              "      <td>0.061649</td>\n",
              "      <td>1.000000</td>\n",
              "    </tr>\n",
              "  </tbody>\n",
              "</table>\n",
              "</div>\n",
              "      <button class=\"colab-df-convert\" onclick=\"convertToInteractive('df-aafc0357-5c50-49c9-bd47-26d58d953773')\"\n",
              "              title=\"Convert this dataframe to an interactive table.\"\n",
              "              style=\"display:none;\">\n",
              "        \n",
              "  <svg xmlns=\"http://www.w3.org/2000/svg\" height=\"24px\"viewBox=\"0 0 24 24\"\n",
              "       width=\"24px\">\n",
              "    <path d=\"M0 0h24v24H0V0z\" fill=\"none\"/>\n",
              "    <path d=\"M18.56 5.44l.94 2.06.94-2.06 2.06-.94-2.06-.94-.94-2.06-.94 2.06-2.06.94zm-11 1L8.5 8.5l.94-2.06 2.06-.94-2.06-.94L8.5 2.5l-.94 2.06-2.06.94zm10 10l.94 2.06.94-2.06 2.06-.94-2.06-.94-.94-2.06-.94 2.06-2.06.94z\"/><path d=\"M17.41 7.96l-1.37-1.37c-.4-.4-.92-.59-1.43-.59-.52 0-1.04.2-1.43.59L10.3 9.45l-7.72 7.72c-.78.78-.78 2.05 0 2.83L4 21.41c.39.39.9.59 1.41.59.51 0 1.02-.2 1.41-.59l7.78-7.78 2.81-2.81c.8-.78.8-2.07 0-2.86zM5.41 20L4 18.59l7.72-7.72 1.47 1.35L5.41 20z\"/>\n",
              "  </svg>\n",
              "      </button>\n",
              "      \n",
              "  <style>\n",
              "    .colab-df-container {\n",
              "      display:flex;\n",
              "      flex-wrap:wrap;\n",
              "      gap: 12px;\n",
              "    }\n",
              "\n",
              "    .colab-df-convert {\n",
              "      background-color: #E8F0FE;\n",
              "      border: none;\n",
              "      border-radius: 50%;\n",
              "      cursor: pointer;\n",
              "      display: none;\n",
              "      fill: #1967D2;\n",
              "      height: 32px;\n",
              "      padding: 0 0 0 0;\n",
              "      width: 32px;\n",
              "    }\n",
              "\n",
              "    .colab-df-convert:hover {\n",
              "      background-color: #E2EBFA;\n",
              "      box-shadow: 0px 1px 2px rgba(60, 64, 67, 0.3), 0px 1px 3px 1px rgba(60, 64, 67, 0.15);\n",
              "      fill: #174EA6;\n",
              "    }\n",
              "\n",
              "    [theme=dark] .colab-df-convert {\n",
              "      background-color: #3B4455;\n",
              "      fill: #D2E3FC;\n",
              "    }\n",
              "\n",
              "    [theme=dark] .colab-df-convert:hover {\n",
              "      background-color: #434B5C;\n",
              "      box-shadow: 0px 1px 3px 1px rgba(0, 0, 0, 0.15);\n",
              "      filter: drop-shadow(0px 1px 2px rgba(0, 0, 0, 0.3));\n",
              "      fill: #FFFFFF;\n",
              "    }\n",
              "  </style>\n",
              "\n",
              "      <script>\n",
              "        const buttonEl =\n",
              "          document.querySelector('#df-aafc0357-5c50-49c9-bd47-26d58d953773 button.colab-df-convert');\n",
              "        buttonEl.style.display =\n",
              "          google.colab.kernel.accessAllowed ? 'block' : 'none';\n",
              "\n",
              "        async function convertToInteractive(key) {\n",
              "          const element = document.querySelector('#df-aafc0357-5c50-49c9-bd47-26d58d953773');\n",
              "          const dataTable =\n",
              "            await google.colab.kernel.invokeFunction('convertToInteractive',\n",
              "                                                     [key], {});\n",
              "          if (!dataTable) return;\n",
              "\n",
              "          const docLinkHtml = 'Like what you see? Visit the ' +\n",
              "            '<a target=\"_blank\" href=https://colab.research.google.com/notebooks/data_table.ipynb>data table notebook</a>'\n",
              "            + ' to learn more about interactive tables.';\n",
              "          element.innerHTML = '';\n",
              "          dataTable['output_type'] = 'display_data';\n",
              "          await google.colab.output.renderOutput(dataTable, element);\n",
              "          const docLink = document.createElement('div');\n",
              "          docLink.innerHTML = docLinkHtml;\n",
              "          element.appendChild(docLink);\n",
              "        }\n",
              "      </script>\n",
              "    </div>\n",
              "  </div>\n",
              "  "
            ]
          },
          "metadata": {},
          "execution_count": 24
        }
      ]
    },
    {
      "cell_type": "code",
      "source": [
        "import seaborn as sns\n",
        "import matplotlib.pyplot as plt\n",
        "sns.heatmap(all_labeled.corr())\n",
        "plt.show()"
      ],
      "metadata": {
        "id": "LoRoqE8EGNm5",
        "colab": {
          "base_uri": "https://localhost:8080/",
          "height": 294
        },
        "outputId": "9ae466be-66cc-4318-9959-9fbcb0f16840"
      },
      "execution_count": null,
      "outputs": [
        {
          "output_type": "display_data",
          "data": {
            "text/plain": [
              "<Figure size 432x288 with 2 Axes>"
            ],
            "image/png": "[encoded data removed]"
          },
          "metadata": {
            "needs_background": "light"
          }
        }
      ]
    },
    {
      "cell_type": "markdown",
      "source": [
        "Con el método de correlación utilizado, podemos observar que existen variables que están correlacionadas linealmente tales como PE - STE, PE - GNE."
      ],
      "metadata": {
        "id": "0iU1SkJBHF5b"
      }
    },
    {
      "cell_type": "markdown",
      "source": [
        "3. Visualización\n"
      ],
      "metadata": {
        "id": "29xZnY4xH7pp"
      }
    },
    {
      "cell_type": "markdown",
      "source": [
        "- Como se distribuyen las variables? Cuales siguen una distribucion normal y cuales no?\n",
        "- Explorar las diferencias entre las distribuciones de las distintas variables:\n",
        "según el paciente según la etiqueta a predecir ambas (usar hue)\n",
        "- Hay outliers presentes en nuestras distribuciones? habria que sacarlos?"
      ],
      "metadata": {
        "id": "nZNdW7brH8tI"
      }
    },
    {
      "cell_type": "markdown",
      "metadata": {
        "id": "-eDESilY-ouC"
      },
      "source": [
        "**Acrónimo de columnas:**\n",
        "\n",
        "Valor medio (Mean)\n",
        "\n",
        "Desvio estandar (Str)\n",
        "\n",
        "Oblicuidad (Skew)\n",
        "\n",
        "Entropía de permutación (PE)\n",
        "\n",
        "Complejidad Estadistica (SC)\n",
        "\n",
        "Entropia Globlal de Redes (GNE)\n",
        "\n",
        "Complejidad de Lempel Ziv (LZC)\n",
        "\n",
        "Entropía Tsallis (STE)"
      ]
    }
  ],
  "metadata": {
    "colab": {
      "collapsed_sections": [],
      "name": "Consignas_Practico_1_grupo_2.ipynb",
      "provenance": []
    },
    "kernelspec": {
      "display_name": "Python 3 (ipykernel)",
      "language": "python",
      "name": "python3"
    },
    "language_info": {
      "codemirror_mode": {
        "name": "ipython",
        "version": 3
      },
      "file_extension": ".py",
      "mimetype": "text/x-python",
      "name": "python",
      "nbconvert_exporter": "python",
      "pygments_lexer": "ipython3",
      "version": "3.8.13"
    }
  },
  "nbformat": 4,
  "nbformat_minor": 0
}